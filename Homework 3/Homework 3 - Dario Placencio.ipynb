{
 "cells": [
  {
   "cell_type": "markdown",
   "metadata": {},
   "source": [
    "# Homework 3 - Dario Placencio"
   ]
  },
  {
   "cell_type": "markdown",
   "metadata": {},
   "source": [
    "# 1 Questions"
   ]
  },
  {
   "cell_type": "code",
   "execution_count": 1,
   "metadata": {},
   "outputs": [],
   "source": [
    "# import the required libraries\n",
    "import numpy as np\n",
    "import pandas as pd\n",
    "import matplotlib.pyplot as plt\n",
    "import seaborn as sns"
   ]
  },
  {
   "cell_type": "markdown",
   "metadata": {},
   "source": [
    "2. (6 pts) The table below provides a training data set containing six observations, three predictors, and one qualitative response variable.\n",
    "\n",
    "$$\n",
    "\\begin{array}{cccc}\n",
    "\\hline\n",
    "X_{1} & X_{2} & X_{3} & Y \\\\\n",
    "\\hline\n",
    "0 & 3 & 0 & \\text{Red} \\\\\n",
    "2 & 0 & 0 & \\text{Red} \\\\\n",
    "0 & 1 & 3 & \\text{Red} \\\\\n",
    "0 & 1 & 2 & \\text{Green} \\\\\n",
    "-1 & 0 & 1 & \\text{Green} \\\\\n",
    "1 & 1 & 1 & \\text{Red} \\\\\n",
    "\\hline\n",
    "\\end{array}\n",
    "$$\n",
    "\n",
    "Suppose we wish to use this data set to make a prediction for $Y$ when $X_{1} = X_{2} = X_{3} = 0$ using K-nearest neighbors.\n"
   ]
  },
  {
   "cell_type": "code",
   "execution_count": 8,
   "metadata": {},
   "outputs": [],
   "source": [
    "# Create the dataframe\n",
    "\n",
    "table_data = {'Y': [\"Red\", \"Red\", \"Red\", \"Green\", \"Green\", \"Red\"], \n",
    "                     'X1': [0, 2, 0, 0, -1, 1], \n",
    "                     'X2': [3, 0, 1, 1, 0, 1], \n",
    "                     'X3': [0, 0, 3, 2, 1, 1]}\t\n",
    "\n",
    "table = pd.DataFrame(table_data, columns = ['Y', 'X1', 'X2', 'X3'])"
   ]
  },
  {
   "cell_type": "code",
   "execution_count": 10,
   "metadata": {},
   "outputs": [
    {
     "name": "stdout",
     "output_type": "stream",
     "text": [
      "       Y  X1  X2  X3  Euclidean Distance\n",
      "0    Red   0   3   0                3.00\n",
      "1    Red   2   0   0                2.00\n",
      "2    Red   0   1   3                3.16\n",
      "3  Green   0   1   2                2.24\n",
      "4  Green  -1   0   1                1.41\n",
      "5    Red   1   1   1                1.73\n"
     ]
    }
   ],
   "source": [
    "# (a) (2 pts) Compute the Euclidean distance between each observation and the test point, X1 = X2 = X3 = 0.\n",
    "\n",
    "# Point X1 = X2 = X3 = 0\n",
    "X1 = 0\n",
    "X2 = 0\n",
    "X3 = 0\n",
    "\n",
    "# Calculate the Euclidean distance between each observation and the test point\n",
    "table['Euclidean Distance'] = np.sqrt((table['X1'] - X1)**2 + (table['X2'] - X2)**2 + (table['X3'] - X3)**2)\n",
    "\n",
    "# Set the display format for float columns\n",
    "pd.options.display.float_format = '{:.2f}'.format\n",
    "\n",
    "# Print the table\n",
    "print(table)"
   ]
  },
  {
   "cell_type": "markdown",
   "metadata": {},
   "source": [
    "The calculated Euclidean distances from each point to the point of interest are as follows:\n",
    "\n",
    "$$\n",
    "\\begin{array}{cccc}\n",
    "\\hline\n",
    "X_{1} & X_{2} & X_{3} & \\text{Distance} & Y \\\\\n",
    "\\hline\n",
    "0 & 3 & 0 & \\sqrt{9} = 3 & \\text{Red} \\\\\n",
    "2 & 0 & 0 & \\sqrt{4} = 2 & \\text{Red} \\\\\n",
    "0 & 1 & 3 & \\sqrt{10} \\approx 3.16 & \\text{Red} \\\\\n",
    "0 & 1 & 2 & \\sqrt{5} \\approx 2.24 & \\text{Green} \\\\\n",
    "-1 & 0 & 1 & \\sqrt{2} \\approx 1.41 & \\text{Green} \\\\\n",
    "1 & 1 & 1 & \\sqrt{3} \\approx 1.73 & \\text{Red} \\\\\n",
    "\\hline\n",
    "\\end{array}\n",
    "$$"
   ]
  },
  {
   "cell_type": "code",
   "execution_count": 11,
   "metadata": {},
   "outputs": [
    {
     "name": "stdout",
     "output_type": "stream",
     "text": [
      "       Y  X1  X2  X3  Euclidean Distance\n",
      "4  Green  -1   0   1                1.41\n",
      "5    Red   1   1   1                1.73\n",
      "1    Red   2   0   0                2.00\n",
      "3  Green   0   1   2                2.24\n",
      "0    Red   0   3   0                3.00\n",
      "2    Red   0   1   3                3.16\n"
     ]
    }
   ],
   "source": [
    "# (b) (2 pts) What is our prediction with K = 1? Why?\n",
    "\n",
    "# Sort the table by Euclidean Distance\n",
    "table = table.sort_values(by=['Euclidean Distance'])\n",
    "\n",
    "# Print the table\n",
    "print(table)\n",
    "\n",
    "# The prediction with K = 1 is Green because the closest observation is Green, with a distance of 1.41."
   ]
  },
  {
   "cell_type": "code",
   "execution_count": 12,
   "metadata": {},
   "outputs": [
    {
     "name": "stdout",
     "output_type": "stream",
     "text": [
      "       Y  X1  X2  X3  Euclidean Distance\n",
      "4  Green  -1   0   1                1.41\n",
      "5    Red   1   1   1                1.73\n",
      "1    Red   2   0   0                2.00\n",
      "3  Green   0   1   2                2.24\n",
      "0    Red   0   3   0                3.00\n",
      "2    Red   0   1   3                3.16\n"
     ]
    }
   ],
   "source": [
    "# (c) (2 pts) What is our prediction with K = 3? Why?\n",
    "\n",
    "# Print the table\n",
    "print(table)\n",
    "\n",
    "# The prediction with K = 3 would be Red, from the 3 closest observations, 2 are Red and 1 is Green. The vote would be Red, hence the prediction. The values of these distances are 1.41, 1.73, and 2.00."
   ]
  },
  {
   "cell_type": "markdown",
   "metadata": {},
   "source": [
    "3. (12 pts) When the number of features p is large, there tends to be a deterioration in the performance of KNN and other local approaches that perform prediction using only observations that are near the test observation for which a prediction must be made. This phenomenon is known as the curse of dimensionality, and it ties into the fact that non-parametric approaches often perform poorly when p is large."
   ]
  },
  {
   "cell_type": "markdown",
   "metadata": {},
   "source": [
    "(a) (2pts) Suppose that we have a set of observations, each with measurements on p = 1 feature, X. We assume that X is uniformly (evenly) distributed on [0, 1]. Associated with each observation is a response value. Suppose that we wish to predict a test observation’s response using only observations that are within 10% of the range of X closest to that test observation. For instance, in order to predict the response for a test observation with X = 0.6, we will use observations in the range [0.55, 0.65]. On average, what fraction of the available observations will we use to make the prediction?"
   ]
  },
  {
   "cell_type": "markdown",
   "metadata": {},
   "source": [
    "X is uniformly distributed on [0,1].\\\n",
    "We will predict the response for a test observation using the range $[x - 0.05, x + 0.05]$\n",
    "\n",
    "Given X is uniformly distributed on [0,1], the probability density function (pdf) is:\n",
    "\n",
    "$$\n",
    "f(x) = \\begin{cases}\n",
    "1 & \\text{if } 0 \\leq x \\leq 1 \\\\\n",
    "0 & \\text{otherwise}\n",
    "\\end{cases}\n",
    "$$\n",
    "\n",
    "Now, calculating the probability of the range the observation within the 10% range:\n",
    "\n",
    "$$  \n",
    "\\begin{align}\n",
    "P(x - 0.05 \\leq X \\leq x + 0.05) &= \\int_{x - 0.05}^{x + 0.05} f(x) dx \\\\\n",
    "&= \\int_{x - 0.05}^{x + 0.05} 1 dx \\\\\n",
    "&= x + 0.05 - (x - 0.05) \\\\\n",
    "&= 0.1\n",
    "\\end{align}\n",
    "$$\n",
    "\n",
    "So, the probability of the range the observation within the 10% range is 0.1."
   ]
  },
  {
   "cell_type": "markdown",
   "metadata": {},
   "source": [
    "(b) (2pts) Now suppose that we have a set of observations, each with measurements on p = 2 features, X1 and X2. We assume that predict a test observation’s response using only observations that (X1,X2) are uniformly distributed on [0, 1] × [0, 1]. We wish to are within 10% of the range of X1 and within 10% of the range of X2 closest to that test observation. For instance, in order to predict the response for a test observation with X1 = 0.6 and X2 = 0.35, we will use observations in the range [0.55, 0.65] for X1 and in the range [0.3, 0.4] for X2. On average, what fraction of the available observations will we use to make the prediction?"
   ]
  },
  {
   "cell_type": "markdown",
   "metadata": {},
   "source": [
    "Both X1, X2 are uniformly distributed on [0,1].\\\n",
    "We will predict the response for a test observation using the range $[x_{1} - 0.05, x_{1} + 0.05]$ for X1 and $[x_{2} - 0.05, x_{2} + 0.05]$ for X2\n",
    "\n",
    "Given X1, X2 are uniformly distributed on [0,1], the probability density function (pdf) is:\n",
    "\n",
    "$$\n",
    "f(x_{1}, x_{2}) = \\begin{cases}\n",
    "1 & \\text{if } 0 \\leq x_{1}, x_{2} \\leq 1 \\\\\n",
    "0 & \\text{otherwise}\n",
    "\\end{cases}\n",
    "$$\n",
    "\n",
    "Now, calculating the probability of the range x1 [0.55, 0.65] and x2 [0.3, 0.4]:\n",
    "\n",
    "$$\n",
    "\\begin{align}\n",
    "P(0.6 - 0.05 \\leq X_{1} \\leq 0.6 + 0.05, 0.35 - 0.05 \\leq X_{2} \\leq 0.35 + 0.05) &= \\int_{0.55}^{0.65} \\int_{0.3}^{0.4} f(x_{1}, x_{2}) dx_{1} dx_{2} \\\\\n",
    "&= \\int_{0.55}^{0.65} \\int_{0.3}^{0.4} 1 dx_{1} dx_{2} \\\\\n",
    "&= \\int_{0.55}^{0.65} x_{1} \\Big|_{0.3}^{0.4} dx_{2} \\\\\n",
    "&= \\int_{0.55}^{0.65} 0.1 dx_{2} \\\\\n",
    "&= 0.1 \\int_{0.55}^{0.65} dx_{2} \\\\\n",
    "&= 0.1 x_{2} \\Big|_{0.55}^{0.65} \\\\\n",
    "&= 0.1 (0.65 - 0.55) \\\\\n",
    "&= 0.01\n",
    "\\end{align}\n",
    "$$\n",
    "\n",
    "We will use 1% of the available observations to make the prediction when considering both features, with a 10 percent range."
   ]
  },
  {
   "cell_type": "markdown",
   "metadata": {},
   "source": [
    "(c) (2pts) Now suppose that we have a set of observations on p = 100 features. Again the observations are uniformly distributed on each feature, and again each feature ranges in value from 0 to 1. We wish to predict a test observation’s response using observations within the 10% of each feature’s range that is closest to that test observation. What fraction of the available observations will we use to make the prediction?"
   ]
  },
  {
   "cell_type": "markdown",
   "metadata": {},
   "source": [
    "So, from the previous answer we know that:\n",
    "\n",
    "For p=1, we use 10% or 0.1 of the observations.\\\n",
    "For p=2, we use 1% or 0.01 of the observations.\\\n",
    "\n",
    "These values are the product of the fractions of observations used in each individual feature's dimension. This is because, given independence and uniform distribution, the fraction of observations used in a multi-dimensional space is the product of the probabilities in each dimension.\n",
    "\n",
    "Extending this to 100 dimensions, we get:\n",
    "\n",
    "$$\n",
    "\\begin{align}\n",
    "(0.1)^{p} &= 1.0 \\times 10^{-100} \\\\\n",
    "\\end{align}\n",
    "$$\n",
    "\n",
    "So we will use $1.0 \\times 10^{-100}$ of the available observations to make the prediction when considering 100 features, with a 10 percent range."
   ]
  },
  {
   "cell_type": "markdown",
   "metadata": {},
   "source": [
    "(d) (3pts) Using your answers to parts (a)–(c), argue that a drawback of KNN when p is large is that there\n",
    "are very few training observations “near” any given test observation."
   ]
  },
  {
   "cell_type": "markdown",
   "metadata": {},
   "source": [
    "This is one of the challanges impose by the \"curse of dimensionality\", as the number of features (or dimensions) increases, so does the distance between the data points. KNN is approach that leverages on spatial proximity to make predictions, so as the distance between the data points increases, the accuracy of the predictions decreases. Even on data sets with a large number of observations, if the number of features is large, is unlikely that the data points will be close to each other, because the distance is a exponential function of the number of features."
   ]
  },
  {
   "cell_type": "markdown",
   "metadata": {},
   "source": [
    "(e) (3pts) Now suppose that we wish to make a prediction for a test observation by creating a p-dimensional hypercube centered around the test observation that contains, on average, 10% of the training observations. For p =1, 2, and 100, what is the length of each side of the hypercube? Comment what happens to the length of the sides as $\\text{lim} p \\rightarrow \\infty$.\n"
   ]
  },
  {
   "cell_type": "markdown",
   "metadata": {},
   "source": [
    "In order to calculate the lenth of the hypercube on each one of the p values, let's first define the volume of the hypercube as:\n",
    "\n",
    "$$\n",
    "\\begin{align}\n",
    "V &= L^{p} \\\\\n",
    "\\end{align}\n",
    "$$\n",
    "\n",
    "Where L is the length of each side of the hypercube and p is the number of dimensions.\n",
    "\n",
    "We know that percentage of observations used in each individual feature's dimension is 0.1, so:\n",
    "\n",
    "$$\n",
    "\\begin{align}\n",
    "L^{p} &= 0.1 \\\\\n",
    "L &= 0.1^{\\frac{1}{p}} \\\\\n",
    "\\end{align}\n",
    "$$\n",
    "\n",
    "Replacing the values of 1,2, and 100 for p, we get:\n",
    "\n",
    "$$\n",
    "\\begin{align}\n",
    "L_{p=1} &= 0.1^{\\frac{1}{1}} = 0.1 \\\\\n",
    "L_{p=2} &= 0.1^{\\frac{1}{2}} = 0.316 \\\\\n",
    "L_{p=100} &= 0.1^{\\frac{1}{100}} = 0.977 \\\\\n",
    "\\end{align}\n",
    "$$\n",
    "\n",
    "This shows that as the value of features increases, so does the length of the sides of the hypercube, getting closer to 1, representing the entire range of the feature. This means that with more features, we progresively need to consider a larger range of values to make predictions, making the \"neighborhood\" of the KNN model larger, and therefore less accurate."
   ]
  },
  {
   "cell_type": "markdown",
   "metadata": {},
   "source": [
    "4. (6 pts) Supoose you trained a classifier for a spam detection system. The prediction result on the test set is summarized in the following table.\n",
    "\n",
    "$$\n",
    "\\begin{array}{cccc}\n",
    "\\hline\n",
    "\\text{Predicted class} & \\text{Spam} & \\text{not Spam} \\\\\n",
    "\\hline\n",
    "\\text{Actual class Spam} & 8 & 2 \\\\\n",
    "\\text{Actual class not Spam} & 16 & 974 \\\\\n",
    "\\hline\n",
    "\\end{array}\n",
    "$$"
   ]
  },
  {
   "cell_type": "markdown",
   "metadata": {},
   "source": [
    "Calculate\n",
    "\n",
    "- (a) (2 pts) Accuracy \n",
    "- (b) (2 pts) Precision\n",
    "- (c) (2 pts) Recall "
   ]
  },
  {
   "cell_type": "markdown",
   "metadata": {},
   "source": [
    "(a) Accuracy\n",
    "\n",
    "$$\n",
    "\\begin{align}\n",
    "Accuracy &= \\frac{TP + TN}{TP + TN + FP + FN} \\\\\n",
    "&= \\frac{8 + 974}{8 + 974 + 16 + 2} \\\\\n",
    "&= \\frac{982}{1000} \\\\\n",
    "&= 0.982\n",
    "\\end{align}\n",
    "$$"
   ]
  },
  {
   "cell_type": "markdown",
   "metadata": {},
   "source": [
    "(b) Precision\n",
    "\n",
    "$$\n",
    "\\begin{align}\n",
    "Precision &= \\frac{TP}{TP + FP} \\\\\n",
    "&= \\frac{8}{8 + 16} \\\\\n",
    "&= \\frac{8}{24} \\\\\n",
    "&= 0.333\n",
    "\\end{align}\n",
    "$$"
   ]
  },
  {
   "cell_type": "markdown",
   "metadata": {},
   "source": [
    "(c) Recall\n",
    "\n",
    "$$\n",
    "\\begin{align}\n",
    "Recall &= \\frac{TP}{TP + FN} \\\\\n",
    "&= \\frac{8}{8 + 2} \\\\\n",
    "&= \\frac{8}{10} \\\\\n",
    "&= 0.8\n",
    "\\end{align}\n",
    "$$"
   ]
  },
  {
   "cell_type": "markdown",
   "metadata": {},
   "source": [
    "5. (9pts) Again, suppose you trained a classifier for a spam filter. The prediction result on the test set is\n",
    "summarized in the following table. Here, ”+” represents spam, and ”-” means not spam.\n",
    "\n",
    "$$\n",
    "\\begin{array}{cccc}\n",
    "\\hline\n",
    "\\text{Confidence Positive} & \\text{Correct class} \\\\\n",
    "\\hline\n",
    "0.95 & + \\\\\n",
    "0.85 & + \\\\\n",
    "0.8 & - \\\\\n",
    "0.7 & + \\\\\n",
    "0.55 & + \\\\\n",
    "0.45 & - \\\\\n",
    "0.4 & + \\\\\n",
    "0.3 & + \\\\\n",
    "0.2 & - \\\\\n",
    "0.1 & - \\\\\n",
    "\\hline\n",
    "\\end{array}\n",
    "$$\n",
    "\n",
    "(a) (6pts) Draw a ROC curve based on the above table."
   ]
  },
  {
   "cell_type": "code",
   "execution_count": 6,
   "metadata": {},
   "outputs": [],
   "source": [
    "# Dataframe\n",
    "\n",
    "table_data = {'Confidence Positive': [0.95, 0.85, 0.8, 0.7, 0.55, 0.45, 0.4, 0.3, 0.2, 0.1],    \n",
    "                'Correct Class': [\"+\", \"+\", \"-\", \"+\", \"+\", \"-\", \"+\", \"+\", \"-\", \"-\"]}\t\n",
    "\n",
    "table = pd.DataFrame(table_data, columns = ['Confidence Positive', 'Correct Class'])"
   ]
  },
  {
   "cell_type": "code",
   "execution_count": 7,
   "metadata": {},
   "outputs": [
    {
     "data": {
      "image/png": "[encoded data removed]",
      "text/plain": [
       "<Figure size 800x800 with 1 Axes>"
      ]
     },
     "metadata": {},
     "output_type": "display_data"
    }
   ],
   "source": [
    "# Initialize variables\n",
    "tpr_list = []\n",
    "fpr_list = []\n",
    "\n",
    "positive = sum(table['Correct Class'] == '+')\n",
    "negative = sum(table['Correct Class'] == '-')\n",
    "\n",
    "# Iterate through thresholds\n",
    "for threshold in table['Confidence Positive']:\n",
    "    pred_class = [ '+' if x >= threshold else '-' for x in table['Confidence Positive']]\n",
    "    table['Predicted Class'] = pred_class\n",
    "    \n",
    "    # Compute True Positive, False Positive\n",
    "    tp = sum((table['Correct Class'] == '+') & (table['Predicted Class'] == '+'))\n",
    "    fp = sum((table['Correct Class'] == '-') & (table['Predicted Class'] == '+'))\n",
    "    \n",
    "    # Compute True Positive Rate, False Positive Rate\n",
    "    tpr = tp / positive\n",
    "    fpr = fp / negative\n",
    "    \n",
    "    tpr_list.append(tpr)\n",
    "    fpr_list.append(fpr)\n",
    "\n",
    "# Add (0, 0) and (1, 1) to make the plot start at the origin and end at top right\n",
    "tpr_list = [0] + tpr_list + [1]\n",
    "fpr_list = [0] + fpr_list + [1]\n",
    "\n",
    "# Plotting\n",
    "plt.figure(figsize=(8, 8))\n",
    "plt.plot(fpr_list, tpr_list, marker='o')\n",
    "plt.plot([0, 1], [0, 1], linestyle='--', color='gray')\n",
    "plt.title('ROC Curve')\n",
    "plt.xlabel('False Positive Rate')\n",
    "plt.ylabel('True Positive Rate')\n",
    "plt.xlim([0, 1])\n",
    "plt.ylim([0, 1])\n",
    "plt.grid(True)\n",
    "plt.show()"
   ]
  },
  {
   "cell_type": "markdown",
   "metadata": {},
   "source": [
    "(b) (3pts) (Real-world open question) Suppose you want to choose a threshold parameter so that mails\n",
    "with confidence positives above the threshold can be classified as spam. Which value will you choose?\n",
    "Justify your answer based on the ROC curve."
   ]
  },
  {
   "cell_type": "markdown",
   "metadata": {},
   "source": [
    "Considering the context, what I would like to avoid is to have False Positives, emails that are actually not Spam, and that I would be missing from my inbox because of missclassification. So, I would choose a threshold that would minimize the False Positive Rate (FPR), based on the values of the ROC curve, this treshold would be .85, which would give me a FPR of 0, but in comparison a little bit of a better classification of the True Positives (TPR) than the threshold of 0.95."
   ]
  },
  {
   "cell_type": "markdown",
   "metadata": {},
   "source": [
    "6. (8 pts) In this problem, we will walk through a single step of the gradient descent algorithm for logistic regression. As a reminder,\n",
    "\n",
    "$$\\hat{y} = f(x, \\theta)$$\n",
    "$$f(x;\\theta) = \\sigma(\\theta^\\top x)$$\n",
    "$$\\text{Cross entropy loss } L(\\hat{y}, y) = -[y \\log  \\hat{y} + (1-y)\\log(1-\\hat{y})]$$\n",
    "$$\\text{The single update step } \\theta^{t+1} = \\theta^{t} - \\eta \\nabla_{\\theta} L(f(x;\\theta), y) $$"
   ]
  },
  {
   "cell_type": "markdown",
   "metadata": {},
   "source": [
    "(a) Compute the first gradient $\\nabla_{\\theta} L(f(x;\\theta), y)$."
   ]
  },
  {
   "cell_type": "markdown",
   "metadata": {},
   "source": [
    "The first gradient of the loss function is:\n",
    "\n",
    "$$\n",
    "\\begin{align}\n",
    "\\nabla_{\\theta} L(f(x;\\theta), y) &= \\frac{\\partial}{\\partial \\theta} L(f(x;\\theta), y) \\\\\n",
    "&= \\frac{\\partial}{\\partial \\theta} -[y \\log  \\hat{y} + (1-y)\\log(1-\\hat{y})] \\\\\n",
    "&= -[y \\frac{\\partial}{\\partial \\theta} \\log  \\hat{y} + (1-y)\\frac{\\partial}{\\partial \\theta} \\log(1-\\hat{y})] \\\\\n",
    "&= -[y \\frac{\\partial}{\\partial \\theta} \\log  \\sigma(\\theta^\\top x) + (1-y)\\frac{\\partial}{\\partial \\theta} \\log(1-\\sigma(\\theta^\\top x))] \\\\\n",
    "&= -[y \\frac{1}{\\sigma(\\theta^\\top x)} \\frac{\\partial}{\\partial \\theta} \\sigma(\\theta^\\top x) + (1-y)\\frac{1}{1-\\sigma(\\theta^\\top x)}\\frac{\\partial}{\\partial \\theta} \\log(1-\\sigma(\\theta^\\top x))] \\\\\n",
    "&= -[y \\frac{1}{\\sigma(\\theta^\\top x)} \\sigma(\\theta^\\top x) (1 - \\sigma(\\theta^\\top x)) x + (1-y)\\frac{1}{1-\\sigma(\\theta^\\top x)}(-\\sigma(\\theta^\\top x) (1 - \\sigma(\\theta^\\top x)) x)] \\\\\n",
    "&= -[y (1 - \\sigma(\\theta^\\top x)) x + (1-y)(-\\sigma(\\theta^\\top x) x)] \\\\\n",
    "&= -[y x - y \\sigma(\\theta^\\top x) x - \\sigma(\\theta^\\top x) x + y \\sigma(\\theta^\\top x) x] \\\\\n",
    "&= -[y x - \\sigma(\\theta^\\top x) x] \\\\\n",
    "&= -[y - \\sigma(\\theta^\\top x)] x \\\\\n",
    "&= -[y - f(x;\\theta)] x \\\\\n",
    "\\end{align}\n",
    "$$"
   ]
  },
  {
   "cell_type": "markdown",
   "metadata": {},
   "source": [
    "(b) Now assume a two dimensional input. After including a bias parameter for the first dimension, we will have\n",
    "\n",
    "$\\theta\\in\\mathbb{R}^3$.\n",
    "$$ \\text{Initial parameters : }  \\theta^{0}=[0, 0, 0]$$\n",
    "$$ \\text{Learning rate }\\eta=0.1$$\n",
    "$$ \\text{data example : } x=[1, 3, 2], y=1$$\n",
    "\n",
    "Compute the updated parameter vector $\\theta^{1}$ from the single update step."
   ]
  },
  {
   "cell_type": "markdown",
   "metadata": {},
   "source": [
    "We know that:\n",
    "\n",
    "$$\n",
    "\\begin{align}\n",
    "\\theta^{t+1} &= \\theta^{t} - \\eta \\nabla_{\\theta} L(f(x;\\theta), y) \\\\\n",
    "\\end{align}\n",
    "$$\n",
    "\n",
    "So, we need to first calculate $\\hat{y}$ - $f(x;\\theta)$. We know that:\n",
    "\n",
    "$$\n",
    "\\begin{align}\n",
    "z &= \\theta^\\top x \\\\\n",
    "\\end{align}\n",
    "$$\n",
    "\n",
    "So, for the given data example, we have:\n",
    "\n",
    "$$\n",
    "\\begin{align}\n",
    "z &= \\theta^\\top x \\\\\n",
    "&= [0, 0, 0]^\\top [1, 3, 2] \\\\\n",
    "&= 0 \\\\\n",
    "\\end{align}\n",
    "$$\n",
    "\n",
    "And, we know that:\n",
    "\n",
    "$$\n",
    "\\begin{align}\n",
    "\\hat{y} &= \\sigma(z) \\\\\n",
    "&= \\sigma(0) \\\\\n",
    "&= frac{1}{1 + e^{-0}} \\\\\n",
    "&= 0.5 \\\\\n",
    "\\end{align}\n",
    "$$\n",
    "\n",
    "Now, we can calculate the updated parameter vector $\\theta^{1}$:\n",
    "\n",
    "$$\n",
    "\\begin{align}\n",
    "\\theta^{1} &= \\theta^{0} - \\eta \\nabla_{\\theta} L(f(x;\\theta), y) \\\\\n",
    "&= [0, 0, 0] - 0.1 (-[y - f(x;\\theta)] x) \\\\\n",
    "&= [0, 0, 0] - 0.1 (-[1 - 0.5] [1, 3, 2]) \\\\\n",
    "&= [0, 0, 0] - 0.1 (-[0.5] [1, 3, 2]) \\\\\n",
    "&= [0, 0, 0] - 0.1 (-[0.5, 1.5, 1]) \\\\\n",
    "&= [0, 0, 0] - [-0.05, -0.15, -0.1] \\\\\n",
    "&= [0.05, 0.15, 0.1] \\\\\n",
    "\\end{align}\n",
    "$$    "
   ]
  },
  {
   "cell_type": "markdown",
   "metadata": {},
   "source": [
    "## 2. Programing Part"
   ]
  },
  {
   "cell_type": "markdown",
   "metadata": {},
   "source": [
    "1. (10 pts) Use the whole D2z.txt as training set.  Use Euclidean distance (i.e. $A=I$). Visualize the predictions of 1NN on a 2D grid $[-2:0.1:2]^2$. That is, you should produce test points whose first feature goes over $-2, -1.9, -1.8, \\ldots, 1.9, 2$, so does the second feature independent of the first feature. You should overlay the \n",
    "training set in the plot, just make sure we can tell which points are training, which are grid."
   ]
  },
  {
   "cell_type": "code",
   "execution_count": 11,
   "metadata": {},
   "outputs": [],
   "source": [
    "# Read D2z txt\n",
    "D2z = pd.read_csv('D2z.txt', sep=' ', header=None)"
   ]
  },
  {
   "cell_type": "code",
   "execution_count": 12,
   "metadata": {},
   "outputs": [],
   "source": [
    "# Add a column names\n",
    "D2z.columns = ['X1', 'X2', 'Label']"
   ]
  },
  {
   "cell_type": "code",
   "execution_count": 13,
   "metadata": {},
   "outputs": [
    {
     "name": "stdout",
     "output_type": "stream",
     "text": [
      "         X1        X2  Label\n",
      "0 -0.333338 -0.087171      0\n",
      "1 -1.531730  0.358194      1\n",
      "2  1.549590 -0.364050      0\n",
      "3 -1.349910  0.252063      1\n",
      "4  1.283850 -0.531146      0\n"
     ]
    }
   ],
   "source": [
    "# Print the first 5 rows\n",
    "print(D2z.head())"
   ]
  },
  {
   "cell_type": "code",
   "execution_count": 14,
   "metadata": {},
   "outputs": [],
   "source": [
    "# Create a grid\n",
    "x, y = np.meshgrid(np.arange(-2, 2.1, 0.1), np.arange(-2, 2.1, 0.1))\n",
    "grid = np.c_[x.ravel(), y.ravel()]"
   ]
  },
  {
   "cell_type": "code",
   "execution_count": 15,
   "metadata": {},
   "outputs": [],
   "source": [
    "# Prediction List\n",
    "predictions = []"
   ]
  },
  {
   "cell_type": "code",
   "execution_count": 17,
   "metadata": {},
   "outputs": [],
   "source": [
    "# 1NN and Predictions\n",
    "for point in grid:\n",
    "    # Calculate the Euclidean distance between each observation and the test point\n",
    "    D2z['Euclidean Distance'] = np.sqrt((D2z['X1'] - point[0])**2 + (D2z['X2'] - point[1])**2)\n",
    "    \n",
    "    # Sort the table by Euclidean Distance\n",
    "    D2z = D2z.sort_values(by=['Euclidean Distance'])\n",
    "    \n",
    "    # Append the prediction to the list\n",
    "    predictions.append(D2z.iloc[0]['Label'])\n",
    "\n",
    "# Reshape the predictions\n",
    "predictions = np.array(predictions).reshape(x.shape)"
   ]
  },
  {
   "cell_type": "code",
   "execution_count": 27,
   "metadata": {},
   "outputs": [
    {
     "data": {
      "image/png": "[encoded data removed]",
      "text/plain": [
       "<Figure size 800x800 with 1 Axes>"
      ]
     },
     "metadata": {},
     "output_type": "display_data"
    }
   ],
   "source": [
    "# Plotting\n",
    "plt.figure(figsize=(8, 8))\n",
    "plt.contourf(x, y, predictions, cmap='coolwarm', alpha=0.5)\n",
    "\n",
    "# Separate data by label for legend\n",
    "class0 = D2z[D2z['Label'] == 0]\n",
    "class1 = D2z[D2z['Label'] == 1]\n",
    "\n",
    "# Create separate scatter plots for each class and label them\n",
    "plt.scatter(class0['X1'], class0['X2'], color='red', label='Class 0')\n",
    "plt.scatter(class1['X1'], class1['X2'], color='blue', label='Class 1')\n",
    "\n",
    "# Test point\n",
    "plt.scatter(0, 0, c='black', marker='x', s=100, label='Test Point')\n",
    "\n",
    "plt.xlabel('X1')\n",
    "plt.ylabel('X2')   \n",
    "plt.xlim([-2, 2])\n",
    "plt.ylim([-2, 2])\n",
    "plt.grid(True)\n",
    "plt.legend() \n",
    "plt.show();"
   ]
  },
  {
   "cell_type": "markdown",
   "metadata": {},
   "source": [
    "{Spam filter} \n",
    "\n",
    "Now, we will use 'emails.csv' as our dataset. The description is as follows.\n",
    "\n",
    "- Task: spam detection\n",
    "- The number of rows: 5000\n",
    "- The number of features: 3000 (Word frequency in each email)\n",
    "- The label (y) column name: `Predictor'\n",
    "- For a single training/test set split, use Email 1-4000 as the training set, Email 4001-5000 as the test set.\n",
    "- For 5-fold cross validation, split dataset in the following way.\n",
    "    - Fold 1, test set: Email 1-1000, training set: the rest (Email 1001-5000)\n",
    "    - Fold 2, test set: Email 1000-2000, training set: the rest\n",
    "    - Fold 3, test set: Email 2000-3000, training set: the rest\n",
    "    - Fold 4, test set: Email 3000-4000, training set: the rest\n",
    "    - Fold 5, test set: Email 4000-5000, training set: the rest\t"
   ]
  },
  {
   "cell_type": "code",
   "execution_count": 3,
   "metadata": {},
   "outputs": [],
   "source": [
    "# Read emails.csv\n",
    "emails = pd.read_csv('emails.csv')"
   ]
  },
  {
   "cell_type": "code",
   "execution_count": 4,
   "metadata": {},
   "outputs": [
    {
     "name": "stdout",
     "output_type": "stream",
     "text": [
      "  Email No.  the  to  ect  and  for  of    a  you  hou  ...  connevey  jay  \\\n",
      "0   Email 1    0   0    1    0    0   0    2    0    0  ...         0    0   \n",
      "1   Email 2    8  13   24    6    6   2  102    1   27  ...         0    0   \n",
      "2   Email 3    0   0    1    0    0   0    8    0    0  ...         0    0   \n",
      "3   Email 4    0   5   22    0    5   1   51    2   10  ...         0    0   \n",
      "4   Email 5    7   6   17    1    5   2   57    0    9  ...         0    0   \n",
      "\n",
      "   valued  lay  infrastructure  military  allowing  ff  dry  Prediction  \n",
      "0       0    0               0         0         0   0    0           0  \n",
      "1       0    0               0         0         0   1    0           0  \n",
      "2       0    0               0         0         0   0    0           0  \n",
      "3       0    0               0         0         0   0    0           0  \n",
      "4       0    0               0         0         0   1    0           0  \n",
      "\n",
      "[5 rows x 3002 columns]\n"
     ]
    }
   ],
   "source": [
    "# Print the first 5 rows\n",
    "print(emails.head())"
   ]
  },
  {
   "cell_type": "code",
   "execution_count": 5,
   "metadata": {},
   "outputs": [
    {
     "name": "stdout",
     "output_type": "stream",
     "text": [
      "(5000, 3002)\n"
     ]
    }
   ],
   "source": [
    "# Shape of the dataframe\n",
    "print(emails.shape)"
   ]
  },
  {
   "cell_type": "code",
   "execution_count": 6,
   "metadata": {},
   "outputs": [],
   "source": [
    "# Drop Email No. column\n",
    "emails = emails.drop('Email No.', axis=1)"
   ]
  },
  {
   "cell_type": "code",
   "execution_count": 7,
   "metadata": {},
   "outputs": [
    {
     "name": "stdout",
     "output_type": "stream",
     "text": [
      "(5000, 3001)\n"
     ]
    }
   ],
   "source": [
    "# Shape of the dataframe\n",
    "print(emails.shape)"
   ]
  },
  {
   "cell_type": "markdown",
   "metadata": {},
   "source": [
    "For a single training/test set split, use Email 1-4000 as the training set, Email 4001-5000 as the test\n",
    "set.\n",
    "\n",
    "For 5-fold cross validation, split dataset in the following way.\n",
    "\n",
    "- Fold 1, test set: Email 1-1000, training set: the rest (Email 1001-5000)\n",
    "- Fold 2, test set: Email 1000-2000, training set: the rest\n",
    "- Fold 3, test set: Email 2000-3000, training set: the rest\n",
    "- Fold 4, test set: Email 3000-4000, training set: the rest\n",
    "- Fold 5, test set: Email 4000-5000, training set: the rest"
   ]
  },
  {
   "cell_type": "markdown",
   "metadata": {},
   "source": [
    "2. (8 pts) Implement 1NN, Run 5-fold cross validation. Report accuracy, precision, and recall in each fold."
   ]
  },
  {
   "cell_type": "code",
   "execution_count": 45,
   "metadata": {},
   "outputs": [
    {
     "name": "stdout",
     "output_type": "stream",
     "text": [
      "Fold 1:\n",
      "Accuracy: 0.8250, Precision: 0.6545, Recall: 0.8175\n",
      "\n",
      "Fold 2:\n",
      "Accuracy: 0.8530, Precision: 0.6857, Recall: 0.8664\n",
      "\n",
      "Fold 3:\n",
      "Accuracy: 0.8620, Precision: 0.7212, Recall: 0.8380\n",
      "\n",
      "Fold 4:\n",
      "Accuracy: 0.8510, Precision: 0.7164, Recall: 0.8163\n",
      "\n",
      "Fold 5:\n",
      "Accuracy: 0.7750, Precision: 0.6057, Recall: 0.7582\n",
      "\n"
     ]
    }
   ],
   "source": [
    "# Implement 1NN, with 5-fold cross validation without using sklearn\n",
    "\n",
    "# Assuming you have a DataFrame `data` loaded from 'emails.csv'\n",
    "# X - feature matrix, y - labels\n",
    "X = emails.drop(columns=['Prediction']).values\n",
    "y = emails['Prediction'].values\n",
    "\n",
    "# Euclidean distance calculation\n",
    "def euclidean_distance(a, b):\n",
    "    return np.sqrt(np.sum((a - b) ** 2, axis=1))\n",
    "\n",
    "# Prediction function for 1NN\n",
    "def predict_one(x_train, y_train, x_test_single):\n",
    "    distances = euclidean_distance(x_train, x_test_single)\n",
    "    nearest_y = y_train[np.argmin(distances)]\n",
    "    return nearest_y\n",
    "\n",
    "# Metric calculations\n",
    "def compute_metrics(y_true, y_pred):\n",
    "    tp = np.sum((y_true == 1) & (y_pred == 1))\n",
    "    tn = np.sum((y_true == 0) & (y_pred == 0))\n",
    "    fp = np.sum((y_true == 0) & (y_pred == 1))\n",
    "    fn = np.sum((y_true == 1) & (y_pred == 0))\n",
    "    \n",
    "    accuracy = (tp + tn) / (tp + tn + fp + fn)\n",
    "    precision = tp / (tp + fp) if tp + fp != 0 else 0\n",
    "    recall = tp / (tp + fn) if tp + fn != 0 else 0\n",
    "    \n",
    "    return accuracy, precision, recall\n",
    "\n",
    "# 5-fold CV splits\n",
    "folds = [\n",
    "    (np.arange(0, 1000), np.arange(1000, 5000)),\n",
    "    (np.arange(1000, 2000), np.concatenate([np.arange(0, 1000), np.arange(2000, 5000)])),\n",
    "    (np.arange(2000, 3000), np.concatenate([np.arange(0, 2000), np.arange(3000, 5000)])),\n",
    "    (np.arange(3000, 4000), np.concatenate([np.arange(0, 3000), np.arange(4000, 5000)])),\n",
    "    (np.arange(4000, 5000), np.arange(0, 4000))\n",
    "]\n",
    "\n",
    "# Applying 1NN and Evaluation\n",
    "for i, (test_idx, train_idx) in enumerate(folds):\n",
    "    X_train, y_train = X[train_idx], y[train_idx]\n",
    "    X_test, y_test = X[test_idx], y[test_idx]\n",
    "    \n",
    "    predictions = np.array([predict_one(X_train, y_train, x_t) for x_t in X_test])\n",
    "    \n",
    "    acc, precision, recall = compute_metrics(y_test, predictions)\n",
    "    \n",
    "    print(f'Fold {i+1}:')\n",
    "    print(f'Accuracy: {acc:.4f}, Precision: {precision:.4f}, Recall: {recall:.4f}\\n')"
   ]
  },
  {
   "cell_type": "markdown",
   "metadata": {},
   "source": [
    "(12 pts) Implement logistic regression (from scratch). Use gradient descent (refer to question 6 from part 1) to find the optimal parameters. You may need to tune your learning rate to find a good optimum. Run 5-fold cross validation. Report accuracy, precision, and recall in each fold."
   ]
  },
  {
   "cell_type": "code",
   "execution_count": 49,
   "metadata": {},
   "outputs": [],
   "source": [
    "def sigmoid(z):\n",
    "    # Stabilization\n",
    "    z = np.clip(z, -250, 250)\n",
    "    return 1 / (1 + np.exp(-z))\n",
    "\n",
    "def cost_function(y, y_pred):\n",
    "    m = len(y)\n",
    "    return (-1/m) * np.sum(y * np.log(y_pred) + (1 - y) * np.log(1 - y_pred))\n",
    "\n",
    "def gradient_descent(X, y, theta, alpha, iterations):\n",
    "    m = len(y)\n",
    "    for _ in range(iterations):\n",
    "        predictions = sigmoid(np.dot(X, theta))\n",
    "        errors = y - predictions\n",
    "        gradient = np.dot(X.T, errors)\n",
    "        theta += alpha * gradient\n",
    "    return theta\n",
    "\n",
    "def predict(X, theta):\n",
    "    predictions = sigmoid(np.dot(X, theta))\n",
    "    return [1 if p >= 0.5 else 0 for p in predictions]"
   ]
  },
  {
   "cell_type": "code",
   "execution_count": 51,
   "metadata": {},
   "outputs": [],
   "source": [
    "# Define thetas, alpha, and iterations\n",
    "theta = np.zeros(X.shape[1])\n",
    "alpha = [0.1, 0.01, 0.001]  # Values of alpha to try\n",
    "iterations = 1000  \n",
    "\n",
    "def compute_metrics(y_true, y_pred):\n",
    "    # True Positive, False Positive, True Negative and False Negative\n",
    "    TP = np.sum((np.array(y_true) == 1) & (np.array(y_pred) == 1))\n",
    "    FP = np.sum((np.array(y_true) == 0) & (np.array(y_pred) == 1))\n",
    "    TN = np.sum((np.array(y_true) == 0) & (np.array(y_pred) == 0))\n",
    "    FN = np.sum((np.array(y_true) == 1) & (np.array(y_pred) == 0))\n",
    "\n",
    "    # Accuracy, Precision, and Recall\n",
    "    acc = (TP + TN) / (TP + TN + FP + FN)\n",
    "    precision = TP / (TP + FP) if TP + FP != 0 else 0\n",
    "    recall = TP / (TP + FN) if TP + FN != 0 else 0\n",
    "    \n",
    "    return acc, precision, recall\n"
   ]
  },
  {
   "cell_type": "code",
   "execution_count": 52,
   "metadata": {},
   "outputs": [
    {
     "name": "stdout",
     "output_type": "stream",
     "text": [
      "Fold 1, alpha=0.1:\n",
      "Accuracy: 0.9060, Precision: 0.8687, Recall: 0.7895\n",
      "\n",
      "Fold 1, alpha=0.01:\n",
      "Accuracy: 0.9180, Precision: 0.8859, Recall: 0.8175\n",
      "\n",
      "Fold 1, alpha=0.001:\n",
      "Accuracy: 0.9180, Precision: 0.8859, Recall: 0.8175\n",
      "\n",
      "Fold 2, alpha=0.1:\n",
      "Accuracy: 0.9260, Precision: 0.8889, Recall: 0.8375\n",
      "\n",
      "Fold 2, alpha=0.01:\n",
      "Accuracy: 0.9300, Precision: 0.9027, Recall: 0.8375\n",
      "\n",
      "Fold 2, alpha=0.001:\n",
      "Accuracy: 0.9300, Precision: 0.9027, Recall: 0.8375\n",
      "\n",
      "Fold 3, alpha=0.1:\n",
      "Accuracy: 0.9250, Precision: 0.9409, Recall: 0.7852\n",
      "\n",
      "Fold 3, alpha=0.01:\n",
      "Accuracy: 0.9300, Precision: 0.9315, Recall: 0.8134\n",
      "\n",
      "Fold 3, alpha=0.001:\n",
      "Accuracy: 0.9300, Precision: 0.9315, Recall: 0.8134\n",
      "\n",
      "Fold 4, alpha=0.1:\n",
      "Accuracy: 0.9540, Precision: 0.9366, Recall: 0.9048\n",
      "\n",
      "Fold 4, alpha=0.01:\n",
      "Accuracy: 0.9540, Precision: 0.9366, Recall: 0.9048\n",
      "\n",
      "Fold 4, alpha=0.001:\n",
      "Accuracy: 0.9540, Precision: 0.9366, Recall: 0.9048\n",
      "\n",
      "Fold 5, alpha=0.1:\n",
      "Accuracy: 0.9430, Precision: 0.9029, Recall: 0.9118\n",
      "\n",
      "Fold 5, alpha=0.01:\n",
      "Accuracy: 0.9400, Precision: 0.8994, Recall: 0.9052\n",
      "\n",
      "Fold 5, alpha=0.001:\n",
      "Accuracy: 0.9410, Precision: 0.8997, Recall: 0.9085\n",
      "\n"
     ]
    }
   ],
   "source": [
    "# Applying Logistic Regression over 5-fold CV\n",
    "for i, (test_idx, train_idx) in enumerate(folds):\n",
    "    X_train, y_train = X[train_idx], y[train_idx]\n",
    "    X_test, y_test = X[test_idx], y[test_idx]\n",
    "    \n",
    "    for a in alpha:\n",
    "        theta_optimal = gradient_descent(X_train, y_train, theta, a, iterations)\n",
    "        predictions = predict(X_test, theta_optimal)\n",
    "        acc, precision, recall = compute_metrics(y_test, predictions)\n",
    "        print(f'Fold {i+1}, alpha={a}:')\n",
    "        print(f'Accuracy: {acc:.4f}, Precision: {precision:.4f}, Recall: {recall:.4f}\\n')"
   ]
  },
  {
   "cell_type": "code",
   "execution_count": 53,
   "metadata": {},
   "outputs": [],
   "source": [
    "results_log = {\n",
    "    \"Fold\": [1, 1, 1, 2, 2, 2, 3, 3, 3, 4, 4, 4, 5, 5, 5],\n",
    "    \"Alpha\": [0.1, 0.01, 0.001, 0.1, 0.01, 0.001, 0.1, 0.01, 0.001, 0.1, 0.01, 0.001, 0.1, 0.01, 0.001],\n",
    "    \"Accuracy\": [0.906, 0.918, 0.918, 0.926, 0.930, 0.930, 0.925, 0.930, 0.930, 0.954, 0.954, 0.954, 0.943, 0.940, 0.941],\n",
    "    \"Precision\": [0.8687, 0.8859, 0.8859, 0.8889, 0.9027, 0.9027, 0.9409, 0.9315, 0.9315, 0.9366, 0.9366, 0.9366, 0.9029, 0.8994, 0.8997],\n",
    "    \"Recall\": [0.7895, 0.8175, 0.8175, 0.8375, 0.8375, 0.8375, 0.7852, 0.8134, 0.8134, 0.9048, 0.9048, 0.9048, 0.9118, 0.9052, 0.9085]\n",
    "}\n",
    "\n",
    "results_log_df = pd.DataFrame(results_log)"
   ]
  },
  {
   "cell_type": "code",
   "execution_count": 55,
   "metadata": {},
   "outputs": [],
   "source": [
    "# Ignore warnings\n",
    "import warnings\n",
    "warnings.filterwarnings('ignore')"
   ]
  },
  {
   "cell_type": "code",
   "execution_count": 58,
   "metadata": {},
   "outputs": [
    {
     "data": {
      "image/png": "[encoded data removed]",
      "text/plain": [
       "<Figure size 400x400 with 1 Axes>"
      ]
     },
     "metadata": {},
     "output_type": "display_data"
    },
    {
     "data": {
      "image/png": "[encoded data removed]",
      "text/plain": [
       "<Figure size 400x400 with 1 Axes>"
      ]
     },
     "metadata": {},
     "output_type": "display_data"
    },
    {
     "data": {
      "image/png": "[encoded data removed]",
      "text/plain": [
       "<Figure size 400x400 with 1 Axes>"
      ]
     },
     "metadata": {},
     "output_type": "display_data"
    }
   ],
   "source": [
    "# Presenting the results by alpha\n",
    "\n",
    "# Accuracy\n",
    "plt.figure(figsize=(4, 4))\n",
    "sns.barplot(x='Alpha', y='Accuracy', data=results_log_df)\n",
    "plt.title('Accuracy by Alpha')\n",
    "plt.ylim([0.9, 0.96])\n",
    "plt.show()\n",
    "\n",
    "# Precision\n",
    "plt.figure(figsize=(4, 4))\n",
    "sns.barplot(x='Alpha', y='Precision', data=results_log_df)\n",
    "plt.title('Precision by Alpha')\n",
    "plt.ylim([0.85, 0.95])\n",
    "plt.show()\n",
    "\n",
    "# Recall\n",
    "plt.figure(figsize=(4, 4))\n",
    "sns.barplot(x='Alpha', y='Recall', data=results_log_df)\n",
    "plt.title('Recall by Alpha')\n",
    "plt.ylim([0.75, 0.95])\n",
    "plt.show()\n"
   ]
  },
  {
   "cell_type": "code",
   "execution_count": 59,
   "metadata": {},
   "outputs": [
    {
     "name": "stdout",
     "output_type": "stream",
     "text": [
      "The most optimal alpha is 0.001\n"
     ]
    }
   ],
   "source": [
    "# Calculate the most optimal alpha\n",
    "optimal_alpha = results_log_df.groupby('Alpha').mean().idxmax().values[0]\n",
    "print(f'The most optimal alpha is {optimal_alpha}')"
   ]
  },
  {
   "cell_type": "code",
   "execution_count": 62,
   "metadata": {},
   "outputs": [
    {
     "data": {
      "text/html": [
       "<div>\n",
       "<style scoped>\n",
       "    .dataframe tbody tr th:only-of-type {\n",
       "        vertical-align: middle;\n",
       "    }\n",
       "\n",
       "    .dataframe tbody tr th {\n",
       "        vertical-align: top;\n",
       "    }\n",
       "\n",
       "    .dataframe thead th {\n",
       "        text-align: right;\n",
       "    }\n",
       "</style>\n",
       "<table border=\"1\" class=\"dataframe\">\n",
       "  <thead>\n",
       "    <tr style=\"text-align: right;\">\n",
       "      <th></th>\n",
       "      <th>Fold</th>\n",
       "      <th>Alpha</th>\n",
       "      <th>Accuracy</th>\n",
       "      <th>Precision</th>\n",
       "      <th>Recall</th>\n",
       "    </tr>\n",
       "  </thead>\n",
       "  <tbody>\n",
       "    <tr>\n",
       "      <th>2</th>\n",
       "      <td>1</td>\n",
       "      <td>0.001</td>\n",
       "      <td>0.918</td>\n",
       "      <td>0.8859</td>\n",
       "      <td>0.8175</td>\n",
       "    </tr>\n",
       "    <tr>\n",
       "      <th>5</th>\n",
       "      <td>2</td>\n",
       "      <td>0.001</td>\n",
       "      <td>0.930</td>\n",
       "      <td>0.9027</td>\n",
       "      <td>0.8375</td>\n",
       "    </tr>\n",
       "    <tr>\n",
       "      <th>8</th>\n",
       "      <td>3</td>\n",
       "      <td>0.001</td>\n",
       "      <td>0.930</td>\n",
       "      <td>0.9315</td>\n",
       "      <td>0.8134</td>\n",
       "    </tr>\n",
       "    <tr>\n",
       "      <th>11</th>\n",
       "      <td>4</td>\n",
       "      <td>0.001</td>\n",
       "      <td>0.954</td>\n",
       "      <td>0.9366</td>\n",
       "      <td>0.9048</td>\n",
       "    </tr>\n",
       "    <tr>\n",
       "      <th>14</th>\n",
       "      <td>5</td>\n",
       "      <td>0.001</td>\n",
       "      <td>0.941</td>\n",
       "      <td>0.8997</td>\n",
       "      <td>0.9085</td>\n",
       "    </tr>\n",
       "  </tbody>\n",
       "</table>\n",
       "</div>"
      ],
      "text/plain": [
       "    Fold  Alpha  Accuracy  Precision  Recall\n",
       "2      1  0.001     0.918     0.8859  0.8175\n",
       "5      2  0.001     0.930     0.9027  0.8375\n",
       "8      3  0.001     0.930     0.9315  0.8134\n",
       "11     4  0.001     0.954     0.9366  0.9048\n",
       "14     5  0.001     0.941     0.8997  0.9085"
      ]
     },
     "execution_count": 62,
     "metadata": {},
     "output_type": "execute_result"
    }
   ],
   "source": [
    "# Report accuracy, precision, and recall for the optimal alpha for each fold \n",
    "results_log_df[results_log_df['Alpha'] == optimal_alpha]"
   ]
  },
  {
   "cell_type": "markdown",
   "metadata": {},
   "source": [
    "4. (10 pts) Run 5-fold cross validation with kNN varying k (k=1, 3, 5, 7, 10). Plot the average accuracy versus k, and list the average accuracy of each case."
   ]
  },
  {
   "cell_type": "code",
   "execution_count": 65,
   "metadata": {},
   "outputs": [],
   "source": [
    "def euclidean_distance(x1, x2):\n",
    "    return np.sqrt(np.sum((x1 - x2)**2, axis=1))\n",
    "\n",
    "def kNN(X_train, y_train, X_test, k):\n",
    "    y_pred = np.zeros(X_test.shape[0])\n",
    "    for idx, test_instance in enumerate(X_test):\n",
    "        distances = euclidean_distance(X_train, test_instance)\n",
    "        neighbors_indices = np.argsort(distances)[:k]\n",
    "        neighbors_labels = y_train[neighbors_indices]\n",
    "        y_pred[idx] = np.bincount(neighbors_labels).argmax()  # majority vote\n",
    "    return y_pred"
   ]
  },
  {
   "cell_type": "code",
   "execution_count": 68,
   "metadata": {},
   "outputs": [],
   "source": [
    "def cross_validation_split(X, y, n_folds=5):\n",
    "    fold_sizes = X.shape[0] // n_folds\n",
    "    indices = np.arange(X.shape[0])\n",
    "    np.random.shuffle(indices)\n",
    "    \n",
    "    folds = []\n",
    "    for i in range(n_folds):\n",
    "        test_idx = indices[i*fold_sizes:(i+1)*fold_sizes]\n",
    "        train_idx = np.setdiff1d(indices, test_idx)\n",
    "        folds.append((train_idx, test_idx))\n",
    "    return folds"
   ]
  },
  {
   "cell_type": "code",
   "execution_count": 66,
   "metadata": {},
   "outputs": [],
   "source": [
    "def accuracy(y_true, y_pred):\n",
    "    return np.mean(y_true == y_pred)"
   ]
  },
  {
   "cell_type": "code",
   "execution_count": 70,
   "metadata": {},
   "outputs": [],
   "source": [
    "def perform_knn_cv(X, y, k_values, folds):\n",
    "    results = np.zeros((len(k_values), len(folds)))\n",
    "    \n",
    "    for i, k in enumerate(k_values):\n",
    "        for j, (test_idx, train_idx) in enumerate(folds):\n",
    "            X_train, y_train = X[train_idx], y[train_idx]\n",
    "            X_test, y_test = X[test_idx], y[test_idx]\n",
    "            \n",
    "            y_pred = kNN(X_train, y_train, X_test, k)\n",
    "            acc = accuracy(y_test, y_pred)\n",
    "            results[i, j] = acc\n",
    "            \n",
    "    return results.mean(axis=1)"
   ]
  },
  {
   "cell_type": "code",
   "execution_count": 71,
   "metadata": {},
   "outputs": [
    {
     "data": {
      "image/png": "[encoded data removed]",
      "text/plain": [
       "<Figure size 640x480 with 1 Axes>"
      ]
     },
     "metadata": {},
     "output_type": "display_data"
    }
   ],
   "source": [
    "k_values = [1, 3, 5, 7, 10]\n",
    "avg_accuracies = perform_knn_cv(X, y, k_values, folds)\n",
    "\n",
    "plt.plot(k_values, avg_accuracies, marker='o')\n",
    "plt.title('Average accuracy vs. k')\n",
    "plt.xlabel('k')\n",
    "plt.ylabel('Average accuracy')\n",
    "plt.grid(True)\n",
    "plt.show();"
   ]
  },
  {
   "cell_type": "code",
   "execution_count": 72,
   "metadata": {},
   "outputs": [
    {
     "name": "stdout",
     "output_type": "stream",
     "text": [
      "Average accuracy for k=1: 0.8344\n",
      "Average accuracy for k=3: 0.8410\n",
      "Average accuracy for k=5: 0.8418\n",
      "Average accuracy for k=7: 0.8452\n",
      "Average accuracy for k=10: 0.8558\n"
     ]
    }
   ],
   "source": [
    "# Printing the average accuracies\n",
    "for k, acc in zip(k_values, avg_accuracies):\n",
    "    print(f\"Average accuracy for k={k}: {acc:.4f}\")"
   ]
  },
  {
   "cell_type": "markdown",
   "metadata": {},
   "source": [
    "5. (10 pts) Use a single training/test setting. Train kNN (k=5) and logistic regression on the training set, and draw ROC curves based on the test set."
   ]
  },
  {
   "cell_type": "code",
   "execution_count": 8,
   "metadata": {},
   "outputs": [],
   "source": [
    "# X - feature matrix, y - labels\n",
    "X = emails.drop(columns=['Prediction']).values\n",
    "y = emails['Prediction'].values"
   ]
  },
  {
   "cell_type": "code",
   "execution_count": 9,
   "metadata": {},
   "outputs": [],
   "source": [
    "# Train Test Split\n",
    "X_train, y_train = X[:4000], y[:4000]\n",
    "X_test, y_test = X[4000:], y[4000:]"
   ]
  },
  {
   "cell_type": "code",
   "execution_count": 66,
   "metadata": {},
   "outputs": [],
   "source": [
    "def euclidean_distance(x1, x2):\n",
    "    return np.sqrt(np.sum((x1 - x2) ** 2, axis=1))\n",
    "\n",
    "def kNN_proba(X_train, y_train, X_test, k=5):\n",
    "    y_pred_proba = []\n",
    "    for x in X_test:\n",
    "        distances = euclidean_distance(X_train, x)\n",
    "        indices = np.argsort(distances)[:k]\n",
    "        k_neighbors = y_train[indices]\n",
    "        \n",
    "        # Calculate class probabilities based on the majority class among k neighbors\n",
    "        proba = np.sum(k_neighbors) / k\n",
    "        y_pred_proba.append(proba)\n",
    "    \n",
    "    return np.array(y_pred_proba)\n",
    "\n",
    "theta = np.zeros(X_train.shape[1])\n",
    "\n",
    "def predict_proba(X, theta):\n",
    "    return sigmoid(np.dot(X, theta))"
   ]
  },
  {
   "cell_type": "code",
   "execution_count": 71,
   "metadata": {},
   "outputs": [],
   "source": [
    "def roc_curve(y_true, y_pred_proba):\n",
    "    thresholds = np.arange(0, 1.01, 0.01)\n",
    "    tpr_list = []\n",
    "    fpr_list = []\n",
    "    \n",
    "    for threshold in thresholds:\n",
    "        # Convert predicted probabilities to binary predictions based on the threshold\n",
    "        pred_class = [1 if x >= threshold else 0 for x in y_pred_proba]\n",
    "        \n",
    "        # Calculate True Positives (TP), False Positives (FP), True Negatives (TN), and False Negatives (FN)\n",
    "        tp = np.sum((y_true == 1) & (pred_class == 1))\n",
    "        fp = np.sum((y_true == 0) & (pred_class == 1))\n",
    "        tn = np.sum((y_true == 0) & (pred_class == 0))\n",
    "        fn = np.sum((y_true == 1) & (pred_class == 0))\n",
    "        \n",
    "        # Calculate True Positive Rate (TPR) and False Positive Rate (FPR)\n",
    "        tpr = tp / (tp + fn) if (tp + fn) != 0 else 0\n",
    "        fpr = fp / (fp + tn) if (fp + tn) != 0 else 0\n",
    "        \n",
    "        tpr_list.append(tpr)\n",
    "        fpr_list.append(fpr)\n",
    "    \n",
    "    return fpr_list, tpr_list"
   ]
  },
  {
   "cell_type": "code",
   "execution_count": 72,
   "metadata": {},
   "outputs": [],
   "source": [
    "# For kNN\n",
    "y_pred_proba_5nn = kNN_proba(X_train, y_train, X_test, k=5)\n",
    "fpr_5nn, tpr_5nn = roc_curve(y_test, y_pred_proba_5nn)\n",
    "\n",
    "# For Logistic Regression\n",
    "y_pred_proba_log = predict_proba(X_test, theta)\n",
    "fpr_log, tpr_log = roc_curve(y_test, y_pred_proba_log)"
   ]
  },
  {
   "cell_type": "code",
   "execution_count": 73,
   "metadata": {},
   "outputs": [
    {
     "data": {
      "image/png": "[encoded data removed]",
      "text/plain": [
       "<Figure size 800x800 with 1 Axes>"
      ]
     },
     "metadata": {},
     "output_type": "display_data"
    }
   ],
   "source": [
    "# Plotting\n",
    "plt.figure(figsize=(8, 8))\n",
    "plt.plot(fpr_5nn, tpr_5nn, label='k-NN (k=5)')\n",
    "plt.plot(fpr_log, tpr_log, label='Logistic Regression')\n",
    "plt.plot([0, 1], [0, 1], linestyle='--', color='gray')\n",
    "plt.title('ROC Curve')\n",
    "plt.xlabel('False Positive Rate')\n",
    "plt.ylabel('True Positive Rate')\n",
    "plt.xlim([0, 1])\n",
    "plt.ylim([0, 1])\n",
    "plt.grid(True)\n",
    "plt.legend()\n",
    "plt.show();"
   ]
  }
 ],
 "metadata": {
  "kernelspec": {
   "display_name": "base",
   "language": "python",
   "name": "python3"
  },
  "language_info": {
   "codemirror_mode": {
    "name": "ipython",
    "version": 3
   },
   "file_extension": ".py",
   "mimetype": "text/x-python",
   "name": "python",
   "nbconvert_exporter": "python",
   "pygments_lexer": "ipython3",
   "version": "3.10.12"
  },
  "orig_nbformat": 4
 },
 "nbformat": 4,
 "nbformat_minor": 2
}
