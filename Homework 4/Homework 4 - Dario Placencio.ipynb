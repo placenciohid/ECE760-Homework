{
 "cells": [
  {
   "cell_type": "markdown",
   "metadata": {},
   "source": [
    "# Homework 4 - Dario Placencio"
   ]
  },
  {
   "cell_type": "code",
   "execution_count": 40,
   "metadata": {},
   "outputs": [],
   "source": [
    "# import the necessary packages\n",
    "import numpy as np\n",
    "import pandas as pd\n",
    "import os \n",
    "import torch\n",
    "import torchvision\n",
    "import torchvision.transforms as transforms\n",
    "import torch.nn as nn\n",
    "import torch.optim as optim\n",
    "import matplotlib\n",
    "matplotlib.use('Agg')\n",
    "import matplotlib.pyplot as plt\n",
    "from IPython.display import Image\n",
    "import plotly.io as pio"
   ]
  },
  {
   "cell_type": "markdown",
   "metadata": {},
   "source": [
    "### 3 - Language Identification with Naive Bayes"
   ]
  },
  {
   "cell_type": "markdown",
   "metadata": {},
   "source": [
    "1. Use files 0.txt to 9.txt in each language as the training data.\n",
    "Estimate the prior probabilities \n",
    "$\\hat p(y=e)$,\n",
    "$\\hat p(y=j)$,\n",
    "$\\hat p(y=s)$\n",
    "using additive smoothing with parameter $\\frac{1}{2}$. \n",
    "Give the formula for additive smoothing with parameter $\\frac{1}{2}$ in this case. \n",
    "Print and include in final report the prior probabilities.\n",
    "(Hint: Store all probabilities here and below in $\\log()$ internally to avoid underflow. This also means you need to do arithmetic in log-space.  But answer questions with probability, not log probability.)\n"
   ]
  },
  {
   "cell_type": "code",
   "execution_count": 2,
   "metadata": {},
   "outputs": [],
   "source": [
    "# Adjust the extract_path to point directly to the languageID folder\n",
    "extract_path = 'languageID'"
   ]
  },
  {
   "cell_type": "code",
   "execution_count": 3,
   "metadata": {},
   "outputs": [
    {
     "data": {
      "text/plain": [
       "(15339, 16500, 15496)"
      ]
     },
     "execution_count": 3,
     "metadata": {},
     "output_type": "execute_result"
    }
   ],
   "source": [
    "# Read the contents of the training files\n",
    "def read_files(lang, start, end):\n",
    "    \"\"\"Read files for a given language between start and end indices.\"\"\"\n",
    "    contents = \"\"\n",
    "    for i in range(start, end + 1):\n",
    "        with open(os.path.join(extract_path, f\"{lang}{i}.txt\"), 'r', errors='ignore') as f:\n",
    "            contents += f.read()\n",
    "    return contents\n",
    "\n",
    "# Extract training data for each language\n",
    "english_train = read_files('e', 0, 9)\n",
    "spanish_train = read_files('s', 0, 9)\n",
    "japanese_train = read_files('j', 0, 9)\n",
    "\n",
    "len(english_train), len(spanish_train), len(japanese_train)"
   ]
  },
  {
   "cell_type": "code",
   "execution_count": 4,
   "metadata": {},
   "outputs": [
    {
     "data": {
      "text/plain": [
       "0.3333333333333333"
      ]
     },
     "execution_count": 4,
     "metadata": {},
     "output_type": "execute_result"
    }
   ],
   "source": [
    "# Given data and smoothing parameters\n",
    "N_y = 10  # Number of English training documents\n",
    "N = 30   # Total number of training documents\n",
    "alpha = 0.5  # Smoothing parameter\n",
    "V = 3  # Number of classes (languages)\n",
    "\n",
    "# Compute smoothed prior probability for English\n",
    "p_e_smoothed = (N_y + alpha) / (N + alpha * V)\n",
    "p_e_smoothed"
   ]
  },
  {
   "cell_type": "code",
   "execution_count": 5,
   "metadata": {},
   "outputs": [],
   "source": [
    "# Store as log probabilities\n",
    "p_e_smoothed = np.log(p_e_smoothed)"
   ]
  },
  {
   "cell_type": "code",
   "execution_count": 6,
   "metadata": {},
   "outputs": [
    {
     "data": {
      "text/plain": [
       "0.3333333333333333"
      ]
     },
     "execution_count": 6,
     "metadata": {},
     "output_type": "execute_result"
    }
   ],
   "source": [
    "# Compute smoothed prior probability for Spanish\n",
    "p_s_smoothed = (N_y + alpha) / (N + alpha * V)\n",
    "p_s_smoothed"
   ]
  },
  {
   "cell_type": "code",
   "execution_count": 7,
   "metadata": {},
   "outputs": [],
   "source": [
    "# Store as log probabilities\n",
    "p_s_smoothed = np.log(p_s_smoothed)"
   ]
  },
  {
   "cell_type": "code",
   "execution_count": 8,
   "metadata": {},
   "outputs": [
    {
     "data": {
      "text/plain": [
       "0.3333333333333333"
      ]
     },
     "execution_count": 8,
     "metadata": {},
     "output_type": "execute_result"
    }
   ],
   "source": [
    "# Compute smoothed prior probability for Japanese\n",
    "p_j_smoothed = (N_y + alpha) / (N + alpha * V)\n",
    "p_j_smoothed"
   ]
  },
  {
   "cell_type": "code",
   "execution_count": 9,
   "metadata": {},
   "outputs": [],
   "source": [
    "# Store as log probabilities\n",
    "p_j_smoothed = np.log(p_j_smoothed)"
   ]
  },
  {
   "cell_type": "markdown",
   "metadata": {},
   "source": [
    "2. Using the same training data, estimate the class conditional probability (multinomial parameter) for English $\\theta_{i,e} := \\hat p(c_i \\mid y=e)$ where $c_i$ is the $i$-th character. That is, $c_1 = a, \\ldots, c_{26} = z, c_{27} = space$. \n",
    "\n",
    "Again use additive smoothing with parameter $\\frac{1}{2}$. Give the formula for additive smoothing with parameter $\\frac{1}{2}$ in this case. \n",
    "\n",
    "Print $\\theta_e$ and include in final report which is a vector with 27 elements."
   ]
  },
  {
   "cell_type": "code",
   "execution_count": 10,
   "metadata": {},
   "outputs": [
    {
     "name": "stdout",
     "output_type": "stream",
     "text": [
      "{'a': 0.0601685114819098, 'b': 0.011134974392863043, 'c': 0.021509995043779945, 'd': 0.021972575582355856, 'e': 0.1053692383941847, 'f': 0.018932760614571286, 'g': 0.017478936064761277, 'h': 0.047216256401784236, 'i': 0.055410540227986124, 'j': 0.001420783082768875, 'k': 0.0037336857756484387, 'l': 0.028977366595076822, 'm': 0.020518751032545846, 'n': 0.057921691723112505, 'o': 0.06446390219725756, 'p': 0.01675202378985627, 'q': 0.0005617049396993227, 'r': 0.053824549810011564, 's': 0.06618205848339666, 't': 0.08012555757475633, 'u': 0.026664463902197257, 'v': 0.009284652238559392, 'w': 0.015496448042293078, 'x': 0.001156451346439782, 'y': 0.013844374690236246, 'z': 0.0006277878737815959, ' ': 0.1792499586981662}\n"
     ]
    }
   ],
   "source": [
    "from collections import defaultdict\n",
    "\n",
    "# Function to count the frequency of each character in a given text\n",
    "def char_frequencies(text):\n",
    "    freq = defaultdict(int)\n",
    "    for char in text:\n",
    "        # Only consider lowercase alphabets and space\n",
    "        if char in 'abcdefghijklmnopqrstuvwxyz ':\n",
    "            freq[char] += 1\n",
    "    return freq\n",
    "\n",
    "# Assuming english_train contains the combined content of English training files\n",
    "english_freq = char_frequencies(english_train)\n",
    "\n",
    "# Compute the total number of characters in the English training data\n",
    "total_english_chars = sum(english_freq.values())\n",
    "\n",
    "# Vocabulary\n",
    "vocabulary = 'abcdefghijklmnopqrstuvwxyz '\n",
    "\n",
    "# Smoothing parameter\n",
    "alpha = 0.5\n",
    "\n",
    "# Compute the class conditional probabilities for English\n",
    "theta_e = {}\n",
    "for char in vocabulary:\n",
    "    theta_e[char] = (english_freq[char] + alpha) / (total_english_chars + alpha * len(vocabulary))\n",
    "\n",
    "print(theta_e)"
   ]
  },
  {
   "cell_type": "code",
   "execution_count": 11,
   "metadata": {},
   "outputs": [],
   "source": [
    "# Store as log probabilities\n",
    "for char in vocabulary:\n",
    "    theta_e[char] = np.log(theta_e[char])"
   ]
  },
  {
   "cell_type": "markdown",
   "metadata": {},
   "source": [
    "3. Print $\\theta_j, \\theta_s$ and include in final report the class conditional probabilities for Japanese and Spanish."
   ]
  },
  {
   "cell_type": "code",
   "execution_count": 12,
   "metadata": {},
   "outputs": [
    {
     "name": "stdout",
     "output_type": "stream",
     "text": [
      "Theta_j: {'a': 0.1317656102589189, 'b': 0.010866906600510151, 'c': 0.005485866033054963, 'd': 0.01722631818022992, 'e': 0.06020475907613823, 'f': 0.003878542227191726, 'g': 0.014011670568503443, 'h': 0.03176211607673224, 'i': 0.09703343932352633, 'j': 0.0023411020650616725, 'k': 0.05740941332681086, 'l': 0.001432614696530277, 'm': 0.03979873510604843, 'n': 0.05671057688947902, 'o': 0.09116321324993885, 'p': 0.0008735455466648031, 'q': 0.00010482546559977637, 'r': 0.04280373178657535, 's': 0.0421747789929767, 't': 0.056990111464411755, 'u': 0.07061742199238269, 'v': 0.0002445927530661449, 'w': 0.01974212935462455, 'x': 3.4941821866592126e-05, 'y': 0.01415143785596981, 'z': 0.00772214263251686, ' ': 0.12344945665466997}\n",
      "Theta_s: {'a': 0.10456045141993771, 'b': 0.008232863618143134, 'c': 0.03752582405722919, 'd': 0.039745922111559924, 'e': 0.1138108599796491, 'f': 0.00860287996053159, 'g': 0.0071844839813758445, 'h': 0.0045327001942585795, 'i': 0.049859702136844375, 'j': 0.006629459467793161, 'k': 0.0002775122567913416, 'l': 0.052943171656748174, 'm': 0.02580863988159477, 'n': 0.054176559464709693, 'o': 0.07249236841293824, 'p': 0.02426690512164287, 'q': 0.007677839104560451, 'r': 0.05929511886774999, 's': 0.06577040485954797, 't': 0.03561407295488884, 'u': 0.03370232185254849, 'v': 0.00588942678301625, 'w': 9.250408559711388e-05, 'x': 0.0024976103111220747, 'y': 0.007862847275754679, 'z': 0.0026826184823163022, ' ': 0.16826493170115014}\n"
     ]
    }
   ],
   "source": [
    "# Compute character frequencies for Japanese and Spanish\n",
    "japanese_freq = char_frequencies(japanese_train)\n",
    "spanish_freq = char_frequencies(spanish_train)\n",
    "\n",
    "# Compute the total number of characters in the Japanese and Spanish training data\n",
    "total_japanese_chars = sum(japanese_freq.values())\n",
    "total_spanish_chars = sum(spanish_freq.values())\n",
    "\n",
    "# Compute the class conditional probabilities for Japanese\n",
    "theta_j = {}\n",
    "for char in vocabulary:\n",
    "    theta_j[char] = (japanese_freq[char] + alpha) / (total_japanese_chars + alpha * len(vocabulary))\n",
    "\n",
    "# Compute the class conditional probabilities for Spanish\n",
    "theta_s = {}\n",
    "for char in vocabulary:\n",
    "    theta_s[char] = (spanish_freq[char] + alpha) / (total_spanish_chars + alpha * len(vocabulary))\n",
    "\n",
    "print(\"Theta_j:\", theta_j)\n",
    "print(\"Theta_s:\", theta_s)"
   ]
  },
  {
   "cell_type": "code",
   "execution_count": 13,
   "metadata": {},
   "outputs": [],
   "source": [
    "# Store as log probabilities\n",
    "for char in vocabulary:\n",
    "    theta_j[char] = np.log(theta_j[char])\n",
    "    theta_s[char] = np.log(theta_s[char])"
   ]
  },
  {
   "cell_type": "markdown",
   "metadata": {},
   "source": [
    "4. Treat e10.txt as a test document $x$. Represent $x$ as a bag-of-words count vector (Hint: the vocabulary has size 27).\n",
    "\n",
    "Print the bag-of-words vector $x$ and include in final report."
   ]
  },
  {
   "cell_type": "code",
   "execution_count": 14,
   "metadata": {},
   "outputs": [
    {
     "name": "stdout",
     "output_type": "stream",
     "text": [
      "Bag-of-Words Vector: [164, 32, 53, 57, 311, 55, 51, 140, 140, 3, 6, 85, 64, 139, 182, 53, 3, 141, 186, 225, 65, 31, 47, 4, 38, 2, 498]\n"
     ]
    }
   ],
   "source": [
    "# Read the content of e10.txt\n",
    "with open('languageID/e10.txt', 'r', errors='ignore') as f:\n",
    "    test_content = f.read()\n",
    "\n",
    "# Compute character frequencies for the test content\n",
    "test_freq = char_frequencies(test_content)\n",
    "\n",
    "# Create the bag-of-words vector\n",
    "bow_vector = [test_freq[char] for char in vocabulary]\n",
    "\n",
    "print(\"Bag-of-Words Vector:\", bow_vector)"
   ]
  },
  {
   "cell_type": "markdown",
   "metadata": {},
   "source": [
    "5. Compute $\\hat p(x \\mid y)$ for $y=e, j, s$ under the multinomial model assumption, respectively. Use the formula\n",
    "$\\hat p(x \\mid y) = \\prod_{i=1}^d \\theta_{i, y}^{x_i}$ where $x=(x_1, \\ldots, x_d)$.\n",
    "\n",
    "Show the three values: $\\hat p(x \\mid y=e), \\hat p(x \\mid y=j), \\hat p(x \\mid y=s)$.\n",
    "\n",
    "Hint: you may notice that we omitted the multinomial coefficient.  This is ok for classification because it is a constant w.r.t. $y$."
   ]
  },
  {
   "cell_type": "code",
   "execution_count": 15,
   "metadata": {},
   "outputs": [
    {
     "name": "stdout",
     "output_type": "stream",
     "text": [
      "log(p(x|y=e)): -7841.865447060635\n",
      "log(p(x|y=j)): -8771.433079075032\n",
      "log(p(x|y=s)): -8467.282044010557\n"
     ]
    }
   ],
   "source": [
    "import math\n",
    "\n",
    "# Function to compute the log-probability log(p(x|y)) for a given language and its log(theta) values\n",
    "def compute_log_probability(bow_vector, log_theta_values):\n",
    "    log_prob = 0  \n",
    "    for xi, char in zip(bow_vector, vocabulary):\n",
    "        log_prob += xi * log_theta_values[char]\n",
    "    return log_prob\n",
    "\n",
    "# Compute log(p(x|y)) for each language\n",
    "log_p_x_given_e = compute_log_probability(bow_vector, theta_e)\n",
    "log_p_x_given_j = compute_log_probability(bow_vector, theta_j)\n",
    "log_p_x_given_s = compute_log_probability(bow_vector, theta_s)\n",
    "\n",
    "print(\"log(p(x|y=e)):\", log_p_x_given_e)\n",
    "print(\"log(p(x|y=j)):\", log_p_x_given_j)\n",
    "print(\"log(p(x|y=s)):\", log_p_x_given_s)"
   ]
  },
  {
   "cell_type": "code",
   "execution_count": 16,
   "metadata": {},
   "outputs": [
    {
     "name": "stdout",
     "output_type": "stream",
     "text": [
      "p(x|y=e): 0.0\n",
      "p(x|y=j): 0.0\n",
      "p(x|y=s): 0.0\n"
     ]
    }
   ],
   "source": [
    "# Convert the log probabilities back to regular probabilities\n",
    "p_x_given_e = math.exp(log_p_x_given_e)\n",
    "p_x_given_j = math.exp(log_p_x_given_j)\n",
    "p_x_given_s = math.exp(log_p_x_given_s)\n",
    "\n",
    "print(\"p(x|y=e):\", p_x_given_e)\n",
    "print(\"p(x|y=j):\", p_x_given_j)\n",
    "print(\"p(x|y=s):\", p_x_given_s)"
   ]
  },
  {
   "cell_type": "code",
   "execution_count": 17,
   "metadata": {},
   "outputs": [
    {
     "name": "stdout",
     "output_type": "stream",
     "text": [
      "p(x|y=e): 0.0000000000\n",
      "p(x|y=j): 0.0000000000\n",
      "p(x|y=s): 0.0000000000\n"
     ]
    }
   ],
   "source": [
    "# Print p_x_given_e, p_x_given_j, and p_x_given_s with 10 decimal places\n",
    "print(\"p(x|y=e): {:.10f}\".format(p_x_given_e))\n",
    "print(\"p(x|y=j): {:.10f}\".format(p_x_given_j))\n",
    "print(\"p(x|y=s): {:.10f}\".format(p_x_given_s))"
   ]
  },
  {
   "cell_type": "markdown",
   "metadata": {},
   "source": [
    "6. Use Bayes rule and your estimated prior and likelihood, compute the posterior $\\hat p(y \\mid x)$.\n",
    "\n",
    "Show the three values: $\\hat p(y=e \\mid x), \\hat p(y=j \\mid x), \\hat p(y=s \\mid x)$.\n",
    "\n",
    "Show the predicted class label of $x$."
   ]
  },
  {
   "cell_type": "code",
   "execution_count": 18,
   "metadata": {},
   "outputs": [
    {
     "name": "stdout",
     "output_type": "stream",
     "text": [
      "p(y=e|x): 1.0\n",
      "p(y=j|x): 0.0\n",
      "p(y=s|x): 2.4267389118368303e-272\n",
      "Predicted class label: e\n"
     ]
    }
   ],
   "source": [
    "# Compute log posterior for each language using the log priors\n",
    "log_posterior_e = log_p_x_given_e + p_e_smoothed\n",
    "log_posterior_j = log_p_x_given_j + p_j_smoothed\n",
    "log_posterior_s = log_p_x_given_s + p_s_smoothed\n",
    "\n",
    "# Normalize log posteriors by subtracting the max value among them\n",
    "max_log_posterior = max(log_posterior_e, log_posterior_j, log_posterior_s)\n",
    "\n",
    "# Convert normalized log posteriors back to regular probabilities\n",
    "posterior_e = math.exp(log_posterior_e - max_log_posterior)\n",
    "posterior_j = math.exp(log_posterior_j - max_log_posterior)\n",
    "posterior_s = math.exp(log_posterior_s - max_log_posterior)\n",
    "\n",
    "# Normalize the posteriors to sum to 1\n",
    "normalizing_factor = posterior_e + posterior_j + posterior_s\n",
    "normalized_posterior_e = posterior_e / normalizing_factor\n",
    "normalized_posterior_j = posterior_j / normalizing_factor\n",
    "normalized_posterior_s = posterior_s / normalizing_factor\n",
    "\n",
    "# Determine the predicted class label\n",
    "predicted_class_label = max([('e', normalized_posterior_e), ('j', normalized_posterior_j), ('s', normalized_posterior_s)], key=lambda x: x[1])[0]\n",
    "\n",
    "print(\"p(y=e|x):\", normalized_posterior_e)\n",
    "print(\"p(y=j|x):\", normalized_posterior_j)\n",
    "print(\"p(y=s|x):\", normalized_posterior_s)\n",
    "print(\"Predicted class label:\", predicted_class_label)"
   ]
  },
  {
   "cell_type": "markdown",
   "metadata": {},
   "source": [
    "7. Evaluate the performance of your classifier on the test set (files 10.txt to 19.txt in three languages).\n",
    "\n",
    "Present the performance using a confusion matrix. A confusion matrix summarizes the types of errors your classifier makes, as shown in the table below.   The columns are the true language a document is in, and the rows are the classified outcome of that document.  The cells are the number of test documents in that situation.  For example, the cell with row = English and column = Spanish contains the number of test documents that are really Spanish, but misclassified as English by your classifier."
   ]
  },
  {
   "cell_type": "code",
   "execution_count": 19,
   "metadata": {},
   "outputs": [
    {
     "name": "stdout",
     "output_type": "stream",
     "text": [
      "{'e': {'e': 10, 'j': 0, 's': 0}, 'j': {'e': 0, 'j': 10, 's': 0}, 's': {'e': 0, 'j': 0, 's': 10}}\n"
     ]
    }
   ],
   "source": [
    "def predict_language(document):\n",
    "    bow_vector = [document.count(char) for char in vocabulary]\n",
    "    log_p_x_given_e = compute_log_probability(bow_vector, theta_e)\n",
    "    log_p_x_given_j = compute_log_probability(bow_vector, theta_j)\n",
    "    log_p_x_given_s = compute_log_probability(bow_vector, theta_s)\n",
    "    log_posterior_e = log_p_x_given_e + p_e_smoothed\n",
    "    log_posterior_j = log_p_x_given_j + p_j_smoothed\n",
    "    log_posterior_s = log_p_x_given_s + p_s_smoothed\n",
    "    predicted_class_label = max([('e', log_posterior_e), ('j', log_posterior_j), ('s', log_posterior_s)], key=lambda x: x[1])[0]\n",
    "    return predicted_class_label\n",
    "\n",
    "# Confusion matrix evaluation\n",
    "languages = ['e', 'j', 's']\n",
    "confusion_matrix = {lang1: {lang2: 0 for lang2 in languages} for lang1 in languages}\n",
    "\n",
    "base_path = \"languageID/\"  \n",
    "for lang in languages:\n",
    "    for i in range(10, 20):\n",
    "        filename = os.path.join(base_path, f\"{lang}{i}.txt\")\n",
    "        with open(filename, 'r', encoding='utf-8', errors='ignore') as file:\n",
    "            document = file.read().lower()\n",
    "        predicted_label = predict_language(document)\n",
    "        confusion_matrix[predicted_label][lang] += 1  # Rows: Predicted, Columns: True\n",
    "\n",
    "print(confusion_matrix)"
   ]
  },
  {
   "cell_type": "markdown",
   "metadata": {},
   "source": [
    "### 4 - Simple Feed-Forward Network "
   ]
  },
  {
   "cell_type": "markdown",
   "metadata": {},
   "source": [
    "2. Implement it in NumPy or PyTorch using basic linear algebra operations. (e.g. You are not allowed to use auto-grad, built-in optimizer, model, etc. in this step. You can use library functions for data loading, processing, etc.). Evaluate your implementation on MNIST dataset, report test errors and learning curve. (10 pts)    "
   ]
  },
  {
   "cell_type": "code",
   "execution_count": 20,
   "metadata": {},
   "outputs": [],
   "source": [
    "# Load the MNIST dataset\n",
    "\n",
    "# Transform the data to torch tensors and normalize it \n",
    "transform = transforms.Compose([transforms.ToTensor(),\n",
    "                                transforms.Normalize((0.5,), (0.5,))])\n",
    "\n",
    "# Load the training and test datasets\n",
    "train_dataset = torchvision.datasets.MNIST(root='./data', train=True, transform=transform, download=True)\n",
    "test_dataset = torchvision.datasets.MNIST(root='./data', train=False, transform=transform, download=True)\n",
    "\n",
    "train_loader = torch.utils.data.DataLoader(dataset=train_dataset, batch_size=100, shuffle=True)\n",
    "test_loader = torch.utils.data.DataLoader(dataset=test_dataset, batch_size=100, shuffle=False)"
   ]
  },
  {
   "cell_type": "code",
   "execution_count": 21,
   "metadata": {},
   "outputs": [],
   "source": [
    "# Define the Network Architecture\n",
    "\n",
    "input_size = 28*28  # MNIST images are 28x28\n",
    "hidden_size1 = 300  # First hidden layer\n",
    "hidden_size2 = 200  # Second hidden layer\n",
    "output_size = 10   # Number of output classes (digits 0-9)\n",
    "\n",
    "# Initialize weights and biases with Xavier initialization\n",
    "W1 = torch.randn(input_size, hidden_size1) * torch.sqrt(torch.tensor(2. / (input_size + hidden_size1)))\n",
    "W1.requires_grad_()\n",
    "b1 = torch.randn(hidden_size1, requires_grad=True)\n",
    "\n",
    "W2 = torch.randn(hidden_size1, hidden_size2) * torch.sqrt(torch.tensor(2. / (hidden_size1 + hidden_size2)))\n",
    "W2.requires_grad_()\n",
    "b2 = torch.randn(hidden_size2, requires_grad=True)\n",
    "\n",
    "W3 = torch.randn(hidden_size2, output_size) * torch.sqrt(torch.tensor(2. / (hidden_size2 + output_size)))\n",
    "W3.requires_grad_()\n",
    "b3 = torch.randn(output_size, requires_grad=True)"
   ]
  },
  {
   "cell_type": "code",
   "execution_count": 22,
   "metadata": {},
   "outputs": [],
   "source": [
    "# Implement Forward and Backward Passes\n",
    "\n",
    "def sigmoid(x):\n",
    "    return 1 / (1 + torch.exp(-x))\n",
    "\n",
    "def softmax(x):\n",
    "    return torch.exp(x) / torch.sum(torch.exp(x), dim=1).view(-1, 1)\n",
    "\n",
    "def forward(x):\n",
    "    z1 = torch.mm(x, W1) + b1\n",
    "    a1 = sigmoid(z1)\n",
    "    z2 = torch.mm(a1, W2) + b2\n",
    "    a2 = sigmoid(z2)\n",
    "    z3 = torch.mm(a2, W3) + b3\n",
    "    y_hat = softmax(z3)\n",
    "    return y_hat, a1"
   ]
  },
  {
   "cell_type": "code",
   "execution_count": 23,
   "metadata": {},
   "outputs": [
    {
     "name": "stdout",
     "output_type": "stream",
     "text": [
      "Epoch [1/10], Step [100/938], Loss: 150.44065856933594\n",
      "Epoch [1/10], Step [200/938], Loss: 158.19175720214844\n",
      "Epoch [1/10], Step [300/938], Loss: 152.0260009765625\n",
      "Epoch [1/10], Step [400/938], Loss: 149.39987182617188\n",
      "Epoch [1/10], Step [500/938], Loss: 150.20960998535156\n",
      "Epoch [1/10], Step [600/938], Loss: 150.26626586914062\n",
      "Epoch [1/10], Step [700/938], Loss: 147.4139862060547\n",
      "Epoch [1/10], Step [800/938], Loss: 144.841796875\n",
      "Epoch [1/10], Step [900/938], Loss: 145.0714569091797\n",
      "Epoch [2/10], Step [100/938], Loss: 144.92933654785156\n",
      "Epoch [2/10], Step [200/938], Loss: 145.10665893554688\n",
      "Epoch [2/10], Step [300/938], Loss: 145.93634033203125\n",
      "Epoch [2/10], Step [400/938], Loss: 144.9344482421875\n",
      "Epoch [2/10], Step [500/938], Loss: 145.16329956054688\n",
      "Epoch [2/10], Step [600/938], Loss: 145.87161254882812\n",
      "Epoch [2/10], Step [700/938], Loss: 144.6089324951172\n",
      "Epoch [2/10], Step [800/938], Loss: 145.76742553710938\n",
      "Epoch [2/10], Step [900/938], Loss: 145.1107177734375\n",
      "Epoch [3/10], Step [100/938], Loss: 144.79183959960938\n",
      "Epoch [3/10], Step [200/938], Loss: 144.9639892578125\n",
      "Epoch [3/10], Step [300/938], Loss: 144.24851989746094\n",
      "Epoch [3/10], Step [400/938], Loss: 144.83367919921875\n",
      "Epoch [3/10], Step [500/938], Loss: 144.0528106689453\n",
      "Epoch [3/10], Step [600/938], Loss: 143.10714721679688\n",
      "Epoch [3/10], Step [700/938], Loss: 143.80262756347656\n",
      "Epoch [3/10], Step [800/938], Loss: 144.7071533203125\n",
      "Epoch [3/10], Step [900/938], Loss: 144.11297607421875\n",
      "Epoch [4/10], Step [100/938], Loss: 144.13900756835938\n",
      "Epoch [4/10], Step [200/938], Loss: 144.18218994140625\n",
      "Epoch [4/10], Step [300/938], Loss: 143.67921447753906\n",
      "Epoch [4/10], Step [400/938], Loss: 144.0732879638672\n",
      "Epoch [4/10], Step [500/938], Loss: 143.0061492919922\n",
      "Epoch [4/10], Step [600/938], Loss: 143.6227569580078\n",
      "Epoch [4/10], Step [700/938], Loss: 142.7310333251953\n",
      "Epoch [4/10], Step [800/938], Loss: 142.706787109375\n",
      "Epoch [4/10], Step [900/938], Loss: 143.005859375\n",
      "Epoch [5/10], Step [100/938], Loss: 142.14376831054688\n",
      "Epoch [5/10], Step [200/938], Loss: 142.5039825439453\n",
      "Epoch [5/10], Step [300/938], Loss: 143.33448791503906\n",
      "Epoch [5/10], Step [400/938], Loss: 142.2433319091797\n",
      "Epoch [5/10], Step [500/938], Loss: 141.51812744140625\n",
      "Epoch [5/10], Step [600/938], Loss: 141.9885711669922\n",
      "Epoch [5/10], Step [700/938], Loss: 143.1004638671875\n",
      "Epoch [5/10], Step [800/938], Loss: 141.04580688476562\n",
      "Epoch [5/10], Step [900/938], Loss: 140.5126190185547\n",
      "Epoch [6/10], Step [100/938], Loss: 141.87103271484375\n",
      "Epoch [6/10], Step [200/938], Loss: 140.72235107421875\n",
      "Epoch [6/10], Step [300/938], Loss: 140.95265197753906\n",
      "Epoch [6/10], Step [400/938], Loss: 141.5476837158203\n",
      "Epoch [6/10], Step [500/938], Loss: 140.26698303222656\n",
      "Epoch [6/10], Step [600/938], Loss: 140.1280517578125\n",
      "Epoch [6/10], Step [700/938], Loss: 140.3040313720703\n",
      "Epoch [6/10], Step [800/938], Loss: 141.64251708984375\n",
      "Epoch [6/10], Step [900/938], Loss: 140.82797241210938\n",
      "Epoch [7/10], Step [100/938], Loss: 139.7085723876953\n",
      "Epoch [7/10], Step [200/938], Loss: 140.82366943359375\n",
      "Epoch [7/10], Step [300/938], Loss: 138.39443969726562\n",
      "Epoch [7/10], Step [400/938], Loss: 141.16297912597656\n",
      "Epoch [7/10], Step [500/938], Loss: 140.76480102539062\n",
      "Epoch [7/10], Step [600/938], Loss: 140.22271728515625\n",
      "Epoch [7/10], Step [700/938], Loss: 139.89588928222656\n",
      "Epoch [7/10], Step [800/938], Loss: 139.31581115722656\n",
      "Epoch [7/10], Step [900/938], Loss: 139.6656951904297\n",
      "Epoch [8/10], Step [100/938], Loss: 139.0992889404297\n",
      "Epoch [8/10], Step [200/938], Loss: 139.98033142089844\n",
      "Epoch [8/10], Step [300/938], Loss: 138.3582763671875\n",
      "Epoch [8/10], Step [400/938], Loss: 138.02357482910156\n",
      "Epoch [8/10], Step [500/938], Loss: 140.56471252441406\n",
      "Epoch [8/10], Step [600/938], Loss: 136.2198486328125\n",
      "Epoch [8/10], Step [700/938], Loss: 137.43252563476562\n",
      "Epoch [8/10], Step [800/938], Loss: 135.9687957763672\n",
      "Epoch [8/10], Step [900/938], Loss: 138.53297424316406\n",
      "Epoch [9/10], Step [100/938], Loss: 137.4494171142578\n",
      "Epoch [9/10], Step [200/938], Loss: 138.25155639648438\n",
      "Epoch [9/10], Step [300/938], Loss: 137.78530883789062\n",
      "Epoch [9/10], Step [400/938], Loss: 138.82151794433594\n",
      "Epoch [9/10], Step [500/938], Loss: 138.03427124023438\n",
      "Epoch [9/10], Step [600/938], Loss: 139.8271942138672\n",
      "Epoch [9/10], Step [700/938], Loss: 138.09976196289062\n",
      "Epoch [9/10], Step [800/938], Loss: 136.7034912109375\n",
      "Epoch [9/10], Step [900/938], Loss: 138.18231201171875\n",
      "Epoch [10/10], Step [100/938], Loss: 139.20860290527344\n",
      "Epoch [10/10], Step [200/938], Loss: 135.65049743652344\n",
      "Epoch [10/10], Step [300/938], Loss: 138.6070556640625\n",
      "Epoch [10/10], Step [400/938], Loss: 134.47235107421875\n",
      "Epoch [10/10], Step [500/938], Loss: 132.58444213867188\n",
      "Epoch [10/10], Step [600/938], Loss: 135.80419921875\n",
      "Epoch [10/10], Step [700/938], Loss: 135.9111328125\n",
      "Epoch [10/10], Step [800/938], Loss: 135.47509765625\n",
      "Epoch [10/10], Step [900/938], Loss: 134.71739196777344\n"
     ]
    }
   ],
   "source": [
    "# Train the Network\n",
    "\n",
    "learning_rate = 1e-5\n",
    "num_epochs = 10\n",
    "batch_size = 64\n",
    "train_loader = torch.utils.data.DataLoader(dataset=train_dataset, batch_size=batch_size, shuffle=True)\n",
    "loss_list = []\n",
    "\n",
    "for epoch in range(num_epochs):\n",
    "    for i, (images, labels) in enumerate(train_loader):\n",
    "        images = images.view(-1, 28*28)\n",
    "        \n",
    "        # Forward pass\n",
    "        y_hat, a1 = forward(images)\n",
    "        \n",
    "        # Convert labels to one-hot encoding\n",
    "        labels_onehot = torch.zeros(labels.size(0), 10)\n",
    "        labels_onehot.scatter_(1, labels.view(-1, 1), 1)\n",
    "        \n",
    "        # Compute the loss\n",
    "        epsilon = 1e-7\n",
    "        loss = -torch.sum(labels_onehot * torch.log(y_hat + epsilon))\n",
    "        \n",
    "        # Backward pass\n",
    "        # Compute gradients\n",
    "        loss.backward()\n",
    "        \n",
    "        # Update weights and biases\n",
    "        with torch.no_grad():\n",
    "            W1 -= learning_rate * W1.grad\n",
    "            b1 -= learning_rate * b1.grad\n",
    "            W2 -= learning_rate * W2.grad\n",
    "            b2 -= learning_rate * b2.grad\n",
    "            W3 -= learning_rate * W3.grad\n",
    "            b3 -= learning_rate * b3.grad\n",
    "\n",
    "            # Set gradients to zero for the next iteration\n",
    "            W1.grad.zero_()\n",
    "            b1.grad.zero_()\n",
    "            W2.grad.zero_()\n",
    "            b2.grad.zero_()\n",
    "            W3.grad.zero_()\n",
    "            b3.grad.zero_()\n",
    "        \n",
    "        if (i+1) % 100 == 0:\n",
    "            print(f'Epoch [{epoch+1}/{num_epochs}], Step [{i+1}/{len(train_loader)}], Loss: {loss.item()}')\n",
    "            loss_list.append(loss.item())"
   ]
  },
  {
   "cell_type": "code",
   "execution_count": 24,
   "metadata": {},
   "outputs": [
    {
     "name": "stdout",
     "output_type": "stream",
     "text": [
      "Accuracy of the network on the 10000 test images: 54.40999984741211 %\n"
     ]
    }
   ],
   "source": [
    "# Test the Network and Report Test Errors\n",
    "\n",
    "correct = 0\n",
    "total = 0\n",
    "\n",
    "with torch.no_grad():\n",
    "    for images, labels in test_loader:\n",
    "        images = images.view(-1, 28*28)\n",
    "        y_hat, _ = forward(images)\n",
    "        _, predicted = torch.max(y_hat.data, 1)\n",
    "        total += labels.size(0)\n",
    "        correct += (predicted == labels).sum()\n",
    "\n",
    "print(f'Accuracy of the network on the 10000 test images: {100 * correct / total} %')"
   ]
  },
  {
   "cell_type": "code",
   "execution_count": 41,
   "metadata": {},
   "outputs": [
    {
     "data": {
      "application/vnd.plotly.v1+json": {
       "config": {
        "plotlyServerURL": "https://plot.ly"
       },
       "data": [
        {
         "mode": "lines",
         "name": "Loss",
         "type": "scatter",
         "y": [
          150.44065856933594,
          158.19175720214844,
          152.0260009765625,
          149.39987182617188,
          150.20960998535156,
          150.26626586914062,
          147.4139862060547,
          144.841796875,
          145.0714569091797,
          144.92933654785156,
          145.10665893554688,
          145.93634033203125,
          144.9344482421875,
          145.16329956054688,
          145.87161254882812,
          144.6089324951172,
          145.76742553710938,
          145.1107177734375,
          144.79183959960938,
          144.9639892578125,
          144.24851989746094,
          144.83367919921875,
          144.0528106689453,
          143.10714721679688,
          143.80262756347656,
          144.7071533203125,
          144.11297607421875,
          144.13900756835938,
          144.18218994140625,
          143.67921447753906,
          144.0732879638672,
          143.0061492919922,
          143.6227569580078,
          142.7310333251953,
          142.706787109375,
          143.005859375,
          142.14376831054688,
          142.5039825439453,
          143.33448791503906,
          142.2433319091797,
          141.51812744140625,
          141.9885711669922,
          143.1004638671875,
          141.04580688476562,
          140.5126190185547,
          141.87103271484375,
          140.72235107421875,
          140.95265197753906,
          141.5476837158203,
          140.26698303222656,
          140.1280517578125,
          140.3040313720703,
          141.64251708984375,
          140.82797241210938,
          139.7085723876953,
          140.82366943359375,
          138.39443969726562,
          141.16297912597656,
          140.76480102539062,
          140.22271728515625,
          139.89588928222656,
          139.31581115722656,
          139.6656951904297,
          139.0992889404297,
          139.98033142089844,
          138.3582763671875,
          138.02357482910156,
          140.56471252441406,
          136.2198486328125,
          137.43252563476562,
          135.9687957763672,
          138.53297424316406,
          137.4494171142578,
          138.25155639648438,
          137.78530883789062,
          138.82151794433594,
          138.03427124023438,
          139.8271942138672,
          138.09976196289062,
          136.7034912109375,
          138.18231201171875,
          139.20860290527344,
          135.65049743652344,
          138.6070556640625,
          134.47235107421875,
          132.58444213867188,
          135.80419921875,
          135.9111328125,
          135.47509765625,
          134.71739196777344
         ]
        }
       ],
       "layout": {
        "template": {
         "data": {
          "bar": [
           {
            "error_x": {
             "color": "#2a3f5f"
            },
            "error_y": {
             "color": "#2a3f5f"
            },
            "marker": {
             "line": {
              "color": "#E5ECF6",
              "width": 0.5
             },
             "pattern": {
              "fillmode": "overlay",
              "size": 10,
              "solidity": 0.2
             }
            },
            "type": "bar"
           }
          ],
          "barpolar": [
           {
            "marker": {
             "line": {
              "color": "#E5ECF6",
              "width": 0.5
             },
             "pattern": {
              "fillmode": "overlay",
              "size": 10,
              "solidity": 0.2
             }
            },
            "type": "barpolar"
           }
          ],
          "carpet": [
           {
            "aaxis": {
             "endlinecolor": "#2a3f5f",
             "gridcolor": "white",
             "linecolor": "white",
             "minorgridcolor": "white",
             "startlinecolor": "#2a3f5f"
            },
            "baxis": {
             "endlinecolor": "#2a3f5f",
             "gridcolor": "white",
             "linecolor": "white",
             "minorgridcolor": "white",
             "startlinecolor": "#2a3f5f"
            },
            "type": "carpet"
           }
          ],
          "choropleth": [
           {
            "colorbar": {
             "outlinewidth": 0,
             "ticks": ""
            },
            "type": "choropleth"
           }
          ],
          "contour": [
           {
            "colorbar": {
             "outlinewidth": 0,
             "ticks": ""
            },
            "colorscale": [
             [
              0,
              "#0d0887"
             ],
             [
              0.1111111111111111,
              "#46039f"
             ],
             [
              0.2222222222222222,
              "#7201a8"
             ],
             [
              0.3333333333333333,
              "#9c179e"
             ],
             [
              0.4444444444444444,
              "#bd3786"
             ],
             [
              0.5555555555555556,
              "#d8576b"
             ],
             [
              0.6666666666666666,
              "#ed7953"
             ],
             [
              0.7777777777777778,
              "#fb9f3a"
             ],
             [
              0.8888888888888888,
              "#fdca26"
             ],
             [
              1,
              "#f0f921"
             ]
            ],
            "type": "contour"
           }
          ],
          "contourcarpet": [
           {
            "colorbar": {
             "outlinewidth": 0,
             "ticks": ""
            },
            "type": "contourcarpet"
           }
          ],
          "heatmap": [
           {
            "colorbar": {
             "outlinewidth": 0,
             "ticks": ""
            },
            "colorscale": [
             [
              0,
              "#0d0887"
             ],
             [
              0.1111111111111111,
              "#46039f"
             ],
             [
              0.2222222222222222,
              "#7201a8"
             ],
             [
              0.3333333333333333,
              "#9c179e"
             ],
             [
              0.4444444444444444,
              "#bd3786"
             ],
             [
              0.5555555555555556,
              "#d8576b"
             ],
             [
              0.6666666666666666,
              "#ed7953"
             ],
             [
              0.7777777777777778,
              "#fb9f3a"
             ],
             [
              0.8888888888888888,
              "#fdca26"
             ],
             [
              1,
              "#f0f921"
             ]
            ],
            "type": "heatmap"
           }
          ],
          "heatmapgl": [
           {
            "colorbar": {
             "outlinewidth": 0,
             "ticks": ""
            },
            "colorscale": [
             [
              0,
              "#0d0887"
             ],
             [
              0.1111111111111111,
              "#46039f"
             ],
             [
              0.2222222222222222,
              "#7201a8"
             ],
             [
              0.3333333333333333,
              "#9c179e"
             ],
             [
              0.4444444444444444,
              "#bd3786"
             ],
             [
              0.5555555555555556,
              "#d8576b"
             ],
             [
              0.6666666666666666,
              "#ed7953"
             ],
             [
              0.7777777777777778,
              "#fb9f3a"
             ],
             [
              0.8888888888888888,
              "#fdca26"
             ],
             [
              1,
              "#f0f921"
             ]
            ],
            "type": "heatmapgl"
           }
          ],
          "histogram": [
           {
            "marker": {
             "pattern": {
              "fillmode": "overlay",
              "size": 10,
              "solidity": 0.2
             }
            },
            "type": "histogram"
           }
          ],
          "histogram2d": [
           {
            "colorbar": {
             "outlinewidth": 0,
             "ticks": ""
            },
            "colorscale": [
             [
              0,
              "#0d0887"
             ],
             [
              0.1111111111111111,
              "#46039f"
             ],
             [
              0.2222222222222222,
              "#7201a8"
             ],
             [
              0.3333333333333333,
              "#9c179e"
             ],
             [
              0.4444444444444444,
              "#bd3786"
             ],
             [
              0.5555555555555556,
              "#d8576b"
             ],
             [
              0.6666666666666666,
              "#ed7953"
             ],
             [
              0.7777777777777778,
              "#fb9f3a"
             ],
             [
              0.8888888888888888,
              "#fdca26"
             ],
             [
              1,
              "#f0f921"
             ]
            ],
            "type": "histogram2d"
           }
          ],
          "histogram2dcontour": [
           {
            "colorbar": {
             "outlinewidth": 0,
             "ticks": ""
            },
            "colorscale": [
             [
              0,
              "#0d0887"
             ],
             [
              0.1111111111111111,
              "#46039f"
             ],
             [
              0.2222222222222222,
              "#7201a8"
             ],
             [
              0.3333333333333333,
              "#9c179e"
             ],
             [
              0.4444444444444444,
              "#bd3786"
             ],
             [
              0.5555555555555556,
              "#d8576b"
             ],
             [
              0.6666666666666666,
              "#ed7953"
             ],
             [
              0.7777777777777778,
              "#fb9f3a"
             ],
             [
              0.8888888888888888,
              "#fdca26"
             ],
             [
              1,
              "#f0f921"
             ]
            ],
            "type": "histogram2dcontour"
           }
          ],
          "mesh3d": [
           {
            "colorbar": {
             "outlinewidth": 0,
             "ticks": ""
            },
            "type": "mesh3d"
           }
          ],
          "parcoords": [
           {
            "line": {
             "colorbar": {
              "outlinewidth": 0,
              "ticks": ""
             }
            },
            "type": "parcoords"
           }
          ],
          "pie": [
           {
            "automargin": true,
            "type": "pie"
           }
          ],
          "scatter": [
           {
            "fillpattern": {
             "fillmode": "overlay",
             "size": 10,
             "solidity": 0.2
            },
            "type": "scatter"
           }
          ],
          "scatter3d": [
           {
            "line": {
             "colorbar": {
              "outlinewidth": 0,
              "ticks": ""
             }
            },
            "marker": {
             "colorbar": {
              "outlinewidth": 0,
              "ticks": ""
             }
            },
            "type": "scatter3d"
           }
          ],
          "scattercarpet": [
           {
            "marker": {
             "colorbar": {
              "outlinewidth": 0,
              "ticks": ""
             }
            },
            "type": "scattercarpet"
           }
          ],
          "scattergeo": [
           {
            "marker": {
             "colorbar": {
              "outlinewidth": 0,
              "ticks": ""
             }
            },
            "type": "scattergeo"
           }
          ],
          "scattergl": [
           {
            "marker": {
             "colorbar": {
              "outlinewidth": 0,
              "ticks": ""
             }
            },
            "type": "scattergl"
           }
          ],
          "scattermapbox": [
           {
            "marker": {
             "colorbar": {
              "outlinewidth": 0,
              "ticks": ""
             }
            },
            "type": "scattermapbox"
           }
          ],
          "scatterpolar": [
           {
            "marker": {
             "colorbar": {
              "outlinewidth": 0,
              "ticks": ""
             }
            },
            "type": "scatterpolar"
           }
          ],
          "scatterpolargl": [
           {
            "marker": {
             "colorbar": {
              "outlinewidth": 0,
              "ticks": ""
             }
            },
            "type": "scatterpolargl"
           }
          ],
          "scatterternary": [
           {
            "marker": {
             "colorbar": {
              "outlinewidth": 0,
              "ticks": ""
             }
            },
            "type": "scatterternary"
           }
          ],
          "surface": [
           {
            "colorbar": {
             "outlinewidth": 0,
             "ticks": ""
            },
            "colorscale": [
             [
              0,
              "#0d0887"
             ],
             [
              0.1111111111111111,
              "#46039f"
             ],
             [
              0.2222222222222222,
              "#7201a8"
             ],
             [
              0.3333333333333333,
              "#9c179e"
             ],
             [
              0.4444444444444444,
              "#bd3786"
             ],
             [
              0.5555555555555556,
              "#d8576b"
             ],
             [
              0.6666666666666666,
              "#ed7953"
             ],
             [
              0.7777777777777778,
              "#fb9f3a"
             ],
             [
              0.8888888888888888,
              "#fdca26"
             ],
             [
              1,
              "#f0f921"
             ]
            ],
            "type": "surface"
           }
          ],
          "table": [
           {
            "cells": {
             "fill": {
              "color": "#EBF0F8"
             },
             "line": {
              "color": "white"
             }
            },
            "header": {
             "fill": {
              "color": "#C8D4E3"
             },
             "line": {
              "color": "white"
             }
            },
            "type": "table"
           }
          ]
         },
         "layout": {
          "annotationdefaults": {
           "arrowcolor": "#2a3f5f",
           "arrowhead": 0,
           "arrowwidth": 1
          },
          "autotypenumbers": "strict",
          "coloraxis": {
           "colorbar": {
            "outlinewidth": 0,
            "ticks": ""
           }
          },
          "colorscale": {
           "diverging": [
            [
             0,
             "#8e0152"
            ],
            [
             0.1,
             "#c51b7d"
            ],
            [
             0.2,
             "#de77ae"
            ],
            [
             0.3,
             "#f1b6da"
            ],
            [
             0.4,
             "#fde0ef"
            ],
            [
             0.5,
             "#f7f7f7"
            ],
            [
             0.6,
             "#e6f5d0"
            ],
            [
             0.7,
             "#b8e186"
            ],
            [
             0.8,
             "#7fbc41"
            ],
            [
             0.9,
             "#4d9221"
            ],
            [
             1,
             "#276419"
            ]
           ],
           "sequential": [
            [
             0,
             "#0d0887"
            ],
            [
             0.1111111111111111,
             "#46039f"
            ],
            [
             0.2222222222222222,
             "#7201a8"
            ],
            [
             0.3333333333333333,
             "#9c179e"
            ],
            [
             0.4444444444444444,
             "#bd3786"
            ],
            [
             0.5555555555555556,
             "#d8576b"
            ],
            [
             0.6666666666666666,
             "#ed7953"
            ],
            [
             0.7777777777777778,
             "#fb9f3a"
            ],
            [
             0.8888888888888888,
             "#fdca26"
            ],
            [
             1,
             "#f0f921"
            ]
           ],
           "sequentialminus": [
            [
             0,
             "#0d0887"
            ],
            [
             0.1111111111111111,
             "#46039f"
            ],
            [
             0.2222222222222222,
             "#7201a8"
            ],
            [
             0.3333333333333333,
             "#9c179e"
            ],
            [
             0.4444444444444444,
             "#bd3786"
            ],
            [
             0.5555555555555556,
             "#d8576b"
            ],
            [
             0.6666666666666666,
             "#ed7953"
            ],
            [
             0.7777777777777778,
             "#fb9f3a"
            ],
            [
             0.8888888888888888,
             "#fdca26"
            ],
            [
             1,
             "#f0f921"
            ]
           ]
          },
          "colorway": [
           "#636efa",
           "#EF553B",
           "#00cc96",
           "#ab63fa",
           "#FFA15A",
           "#19d3f3",
           "#FF6692",
           "#B6E880",
           "#FF97FF",
           "#FECB52"
          ],
          "font": {
           "color": "#2a3f5f"
          },
          "geo": {
           "bgcolor": "white",
           "lakecolor": "white",
           "landcolor": "#E5ECF6",
           "showlakes": true,
           "showland": true,
           "subunitcolor": "white"
          },
          "hoverlabel": {
           "align": "left"
          },
          "hovermode": "closest",
          "mapbox": {
           "style": "light"
          },
          "paper_bgcolor": "white",
          "plot_bgcolor": "#E5ECF6",
          "polar": {
           "angularaxis": {
            "gridcolor": "white",
            "linecolor": "white",
            "ticks": ""
           },
           "bgcolor": "#E5ECF6",
           "radialaxis": {
            "gridcolor": "white",
            "linecolor": "white",
            "ticks": ""
           }
          },
          "scene": {
           "xaxis": {
            "backgroundcolor": "#E5ECF6",
            "gridcolor": "white",
            "gridwidth": 2,
            "linecolor": "white",
            "showbackground": true,
            "ticks": "",
            "zerolinecolor": "white"
           },
           "yaxis": {
            "backgroundcolor": "#E5ECF6",
            "gridcolor": "white",
            "gridwidth": 2,
            "linecolor": "white",
            "showbackground": true,
            "ticks": "",
            "zerolinecolor": "white"
           },
           "zaxis": {
            "backgroundcolor": "#E5ECF6",
            "gridcolor": "white",
            "gridwidth": 2,
            "linecolor": "white",
            "showbackground": true,
            "ticks": "",
            "zerolinecolor": "white"
           }
          },
          "shapedefaults": {
           "line": {
            "color": "#2a3f5f"
           }
          },
          "ternary": {
           "aaxis": {
            "gridcolor": "white",
            "linecolor": "white",
            "ticks": ""
           },
           "baxis": {
            "gridcolor": "white",
            "linecolor": "white",
            "ticks": ""
           },
           "bgcolor": "#E5ECF6",
           "caxis": {
            "gridcolor": "white",
            "linecolor": "white",
            "ticks": ""
           }
          },
          "title": {
           "x": 0.05
          },
          "xaxis": {
           "automargin": true,
           "gridcolor": "white",
           "linecolor": "white",
           "ticks": "",
           "title": {
            "standoff": 15
           },
           "zerolinecolor": "white",
           "zerolinewidth": 2
          },
          "yaxis": {
           "automargin": true,
           "gridcolor": "white",
           "linecolor": "white",
           "ticks": "",
           "title": {
            "standoff": 15
           },
           "zerolinecolor": "white",
           "zerolinewidth": 2
          }
         }
        },
        "title": {
         "text": "Training Loss over Time"
        },
        "xaxis": {
         "showgrid": true,
         "showline": true,
         "showticklabels": true,
         "title": {
          "text": "Iteration"
         }
        },
        "yaxis": {
         "showgrid": true,
         "showline": true,
         "showticklabels": true,
         "title": {
          "text": "Loss"
         }
        }
       }
      }
     },
     "metadata": {},
     "output_type": "display_data"
    }
   ],
   "source": [
    "import plotly.graph_objects as go\n",
    "\n",
    "# Create the figure\n",
    "fig = go.Figure()\n",
    "\n",
    "# Add the loss curve data\n",
    "fig.add_trace(go.Scatter(y=loss_list, mode='lines', name='Loss'))\n",
    "\n",
    "# Set the layout for the figure\n",
    "fig.update_layout(\n",
    "    title='Training Loss over Time',\n",
    "    xaxis_title='Iteration',\n",
    "    yaxis_title='Loss',\n",
    "    xaxis=dict(showgrid=True, showline=True, showticklabels=True),\n",
    "    yaxis=dict(showgrid=True, showline=True, showticklabels=True)\n",
    ")\n",
    "\n",
    "# Display the figure\n",
    "fig.show()"
   ]
  },
  {
   "cell_type": "code",
   "execution_count": 42,
   "metadata": {},
   "outputs": [
    {
     "data": {
      "image/png": "[encoded data removed]",
      "text/plain": [
       "<IPython.core.display.Image object>"
      ]
     },
     "execution_count": 42,
     "metadata": {},
     "output_type": "execute_result"
    }
   ],
   "source": [
    "img_bytes = pio.to_image(fig, format=\"png\")\n",
    "Image(img_bytes)"
   ]
  },
  {
   "cell_type": "markdown",
   "metadata": {},
   "source": [
    "3. Implement the same network in PyTorch (or any other framework). You can use all the features of the framework e.g. auto-grad etc. Evaluate it on MNIST dataset, report test errors, and learning curve. (2 pts)   "
   ]
  },
  {
   "cell_type": "code",
   "execution_count": 26,
   "metadata": {},
   "outputs": [],
   "source": [
    "# Load the training and test datasets\n",
    "transform = transforms.Compose([transforms.ToTensor(), transforms.Normalize((0.5,), (0.5,))])\n",
    "train_dataset = torchvision.datasets.MNIST(root='./data', train=True, transform=transform, download=True)\n",
    "test_dataset = torchvision.datasets.MNIST(root='./data', train=False, transform=transform)\n",
    "train_loader = torch.utils.data.DataLoader(dataset=train_dataset, batch_size=64, shuffle=True)\n",
    "test_loader = torch.utils.data.DataLoader(dataset=test_dataset, batch_size=64, shuffle=False)\n"
   ]
  },
  {
   "cell_type": "code",
   "execution_count": 27,
   "metadata": {},
   "outputs": [],
   "source": [
    "# Define the Network Architecture with Sigmoid for hidden layers\n",
    "class NeuralNetworkSigmoid(nn.Module):\n",
    "    def __init__(self, input_size, hidden_size1, hidden_size2, output_size):\n",
    "        super(NeuralNetworkSigmoid, self).__init__()\n",
    "        self.fc1 = nn.Linear(input_size, hidden_size1)\n",
    "        self.fc2 = nn.Linear(hidden_size1, hidden_size2)\n",
    "        self.fc3 = nn.Linear(hidden_size2, output_size)\n",
    "        self.sigmoid = nn.Sigmoid()\n",
    "        \n",
    "        # Xavier (Glorot) Initialization for Sigmoid\n",
    "        nn.init.xavier_uniform_(self.fc1.weight)\n",
    "        nn.init.xavier_uniform_(self.fc2.weight)\n",
    "    \n",
    "    def forward(self, x):\n",
    "        x = self.sigmoid(self.fc1(x))\n",
    "        x = self.sigmoid(self.fc2(x))\n",
    "        x = self.fc3(x)  # removed softmax here\n",
    "        return x\n",
    "\n",
    "# Initialize the network with the specified dimensions\n",
    "model_sigmoid = NeuralNetworkSigmoid(28*28, 300, 200, 10)"
   ]
  },
  {
   "cell_type": "code",
   "execution_count": 28,
   "metadata": {},
   "outputs": [],
   "source": [
    "# Set Loss Function and Optimizer\n",
    "learning_rate = 0.01\n",
    "optimizer = optim.SGD(model_sigmoid.parameters(), lr=learning_rate)  # SGD without momentum"
   ]
  },
  {
   "cell_type": "code",
   "execution_count": 29,
   "metadata": {},
   "outputs": [
    {
     "name": "stdout",
     "output_type": "stream",
     "text": [
      "Epoch [1/10], Step [100/938], Loss: 2.292510747909546\n",
      "Epoch [1/10], Step [200/938], Loss: 2.2745885848999023\n",
      "Epoch [1/10], Step [300/938], Loss: 2.236137866973877\n",
      "Epoch [1/10], Step [400/938], Loss: 2.2385945320129395\n",
      "Epoch [1/10], Step [500/938], Loss: 2.246877431869507\n",
      "Epoch [1/10], Step [600/938], Loss: 2.2270617485046387\n",
      "Epoch [1/10], Step [700/938], Loss: 2.2525980472564697\n",
      "Epoch [1/10], Step [800/938], Loss: 2.221071243286133\n",
      "Epoch [1/10], Step [900/938], Loss: 2.1858716011047363\n",
      "Epoch [2/10], Step [100/938], Loss: 2.1568338871002197\n",
      "Epoch [2/10], Step [200/938], Loss: 2.119809150695801\n",
      "Epoch [2/10], Step [300/938], Loss: 2.0830423831939697\n",
      "Epoch [2/10], Step [400/938], Loss: 2.0672149658203125\n",
      "Epoch [2/10], Step [500/938], Loss: 1.9432536363601685\n",
      "Epoch [2/10], Step [600/938], Loss: 1.9893263578414917\n",
      "Epoch [2/10], Step [700/938], Loss: 1.715041160583496\n",
      "Epoch [2/10], Step [800/938], Loss: 1.8554497957229614\n",
      "Epoch [2/10], Step [900/938], Loss: 1.6881569623947144\n",
      "Epoch [3/10], Step [100/938], Loss: 1.6012632846832275\n",
      "Epoch [3/10], Step [200/938], Loss: 1.6248172521591187\n",
      "Epoch [3/10], Step [300/938], Loss: 1.4931164979934692\n",
      "Epoch [3/10], Step [400/938], Loss: 1.423913836479187\n",
      "Epoch [3/10], Step [500/938], Loss: 1.5174356698989868\n",
      "Epoch [3/10], Step [600/938], Loss: 1.3259869813919067\n",
      "Epoch [3/10], Step [700/938], Loss: 1.2630555629730225\n",
      "Epoch [3/10], Step [800/938], Loss: 1.1542565822601318\n",
      "Epoch [3/10], Step [900/938], Loss: 1.1549248695373535\n",
      "Epoch [4/10], Step [100/938], Loss: 1.037700891494751\n",
      "Epoch [4/10], Step [200/938], Loss: 1.0694125890731812\n",
      "Epoch [4/10], Step [300/938], Loss: 0.9972710013389587\n",
      "Epoch [4/10], Step [400/938], Loss: 1.0252350568771362\n",
      "Epoch [4/10], Step [500/938], Loss: 1.0819385051727295\n",
      "Epoch [4/10], Step [600/938], Loss: 1.0091618299484253\n",
      "Epoch [4/10], Step [700/938], Loss: 0.8767440319061279\n",
      "Epoch [4/10], Step [800/938], Loss: 0.7152828574180603\n",
      "Epoch [4/10], Step [900/938], Loss: 0.8610665798187256\n",
      "Epoch [5/10], Step [100/938], Loss: 0.9560669660568237\n",
      "Epoch [5/10], Step [200/938], Loss: 0.7160088419914246\n",
      "Epoch [5/10], Step [300/938], Loss: 0.8273577690124512\n",
      "Epoch [5/10], Step [400/938], Loss: 0.7674003839492798\n",
      "Epoch [5/10], Step [500/938], Loss: 0.82974773645401\n",
      "Epoch [5/10], Step [600/938], Loss: 0.7529183030128479\n",
      "Epoch [5/10], Step [700/938], Loss: 0.6722601652145386\n",
      "Epoch [5/10], Step [800/938], Loss: 0.7306991815567017\n",
      "Epoch [5/10], Step [900/938], Loss: 0.7301172614097595\n",
      "Epoch [6/10], Step [100/938], Loss: 0.7639034390449524\n",
      "Epoch [6/10], Step [200/938], Loss: 0.7602452039718628\n",
      "Epoch [6/10], Step [300/938], Loss: 0.5960515141487122\n",
      "Epoch [6/10], Step [400/938], Loss: 0.9589837789535522\n",
      "Epoch [6/10], Step [500/938], Loss: 0.6737836003303528\n",
      "Epoch [6/10], Step [600/938], Loss: 0.6552358865737915\n",
      "Epoch [6/10], Step [700/938], Loss: 0.4662915766239166\n",
      "Epoch [6/10], Step [800/938], Loss: 0.6583096981048584\n",
      "Epoch [6/10], Step [900/938], Loss: 0.523502767086029\n",
      "Epoch [7/10], Step [100/938], Loss: 0.7014241218566895\n",
      "Epoch [7/10], Step [200/938], Loss: 0.6115772128105164\n",
      "Epoch [7/10], Step [300/938], Loss: 0.722679853439331\n",
      "Epoch [7/10], Step [400/938], Loss: 0.5301729440689087\n",
      "Epoch [7/10], Step [500/938], Loss: 0.5377673506736755\n",
      "Epoch [7/10], Step [600/938], Loss: 0.8452486991882324\n",
      "Epoch [7/10], Step [700/938], Loss: 0.512640118598938\n",
      "Epoch [7/10], Step [800/938], Loss: 0.41439181566238403\n",
      "Epoch [7/10], Step [900/938], Loss: 0.4587152898311615\n",
      "Epoch [8/10], Step [100/938], Loss: 0.5379469394683838\n",
      "Epoch [8/10], Step [200/938], Loss: 0.4712846875190735\n",
      "Epoch [8/10], Step [300/938], Loss: 0.4268187880516052\n",
      "Epoch [8/10], Step [400/938], Loss: 0.4376557171344757\n",
      "Epoch [8/10], Step [500/938], Loss: 0.505620002746582\n",
      "Epoch [8/10], Step [600/938], Loss: 0.43054917454719543\n",
      "Epoch [8/10], Step [700/938], Loss: 0.6603127121925354\n",
      "Epoch [8/10], Step [800/938], Loss: 0.4829855263233185\n",
      "Epoch [8/10], Step [900/938], Loss: 0.43703171610832214\n",
      "Epoch [9/10], Step [100/938], Loss: 0.4643995463848114\n",
      "Epoch [9/10], Step [200/938], Loss: 0.7232795357704163\n",
      "Epoch [9/10], Step [300/938], Loss: 0.39175742864608765\n",
      "Epoch [9/10], Step [400/938], Loss: 0.6205026507377625\n",
      "Epoch [9/10], Step [500/938], Loss: 0.5583638548851013\n",
      "Epoch [9/10], Step [600/938], Loss: 0.3877916932106018\n",
      "Epoch [9/10], Step [700/938], Loss: 0.5199547410011292\n",
      "Epoch [9/10], Step [800/938], Loss: 0.38301512598991394\n",
      "Epoch [9/10], Step [900/938], Loss: 0.4598042368888855\n",
      "Epoch [10/10], Step [100/938], Loss: 0.5218845009803772\n",
      "Epoch [10/10], Step [200/938], Loss: 0.39239010214805603\n",
      "Epoch [10/10], Step [300/938], Loss: 0.5380221605300903\n",
      "Epoch [10/10], Step [400/938], Loss: 0.48484063148498535\n",
      "Epoch [10/10], Step [500/938], Loss: 0.47320041060447693\n",
      "Epoch [10/10], Step [600/938], Loss: 0.474805623292923\n",
      "Epoch [10/10], Step [700/938], Loss: 0.6889896392822266\n",
      "Epoch [10/10], Step [800/938], Loss: 0.4263448417186737\n",
      "Epoch [10/10], Step [900/938], Loss: 0.3722385764122009\n"
     ]
    }
   ],
   "source": [
    "# Train the Network\n",
    "num_epochs = 10\n",
    "loss_list_sigmoid = []\n",
    "criterion = nn.CrossEntropyLoss()\n",
    "\n",
    "for epoch in range(num_epochs):\n",
    "    for i, (images, labels) in enumerate(train_loader):\n",
    "        images = images.view(-1, 28*28)\n",
    "        \n",
    "        # Zero the parameter gradients\n",
    "        optimizer.zero_grad()\n",
    "        \n",
    "        # Forward pass\n",
    "        outputs = model_sigmoid(images)\n",
    "        \n",
    "        # Calculate loss\n",
    "        loss = criterion(outputs, labels)\n",
    "        \n",
    "        # Backward pass and optimize\n",
    "        loss.backward()\n",
    "        optimizer.step()\n",
    "        \n",
    "        if (i+1) % 100 == 0:\n",
    "            print(f'Epoch [{epoch+1}/{num_epochs}], Step [{i+1}/{len(train_loader)}], Loss: {loss.item()}')\n",
    "            loss_list_sigmoid.append(loss.item())"
   ]
  },
  {
   "cell_type": "code",
   "execution_count": 30,
   "metadata": {},
   "outputs": [
    {
     "name": "stdout",
     "output_type": "stream",
     "text": [
      "Accuracy of the network on the 10000 test images: 88.89 %\n",
      "Number of parameters in the network: 297710\n",
      "Hyperparameters: 10, 64, 0.01\n"
     ]
    }
   ],
   "source": [
    "# Test the Network\n",
    "correct_sigmoid = 0\n",
    "total_sigmoid = 0\n",
    "\n",
    "with torch.no_grad():\n",
    "    for images, labels in test_loader:\n",
    "        images = images.view(-1, 28*28)\n",
    "        outputs = model_sigmoid(images)\n",
    "        _, predicted = torch.max(outputs.data, 1)\n",
    "        total_sigmoid += labels.size(0)\n",
    "        correct_sigmoid += (predicted == labels).sum().item()\n",
    "\n",
    "print(f'Accuracy of the network on the 10000 test images: {100 * correct_sigmoid / total_sigmoid} %')\n",
    "print(f'Number of parameters in the network: {sum(p.numel() for p in model_sigmoid.parameters())}')\n",
    "print(f'Hyperparameters: {num_epochs}, {batch_size}, {learning_rate}')"
   ]
  },
  {
   "cell_type": "code",
   "execution_count": 43,
   "metadata": {},
   "outputs": [
    {
     "data": {
      "application/vnd.plotly.v1+json": {
       "config": {
        "plotlyServerURL": "https://plot.ly"
       },
       "data": [
        {
         "mode": "lines",
         "name": "Loss",
         "type": "scatter",
         "y": [
          2.292510747909546,
          2.2745885848999023,
          2.236137866973877,
          2.2385945320129395,
          2.246877431869507,
          2.2270617485046387,
          2.2525980472564697,
          2.221071243286133,
          2.1858716011047363,
          2.1568338871002197,
          2.119809150695801,
          2.0830423831939697,
          2.0672149658203125,
          1.9432536363601685,
          1.9893263578414917,
          1.715041160583496,
          1.8554497957229614,
          1.6881569623947144,
          1.6012632846832275,
          1.6248172521591187,
          1.4931164979934692,
          1.423913836479187,
          1.5174356698989868,
          1.3259869813919067,
          1.2630555629730225,
          1.1542565822601318,
          1.1549248695373535,
          1.037700891494751,
          1.0694125890731812,
          0.9972710013389587,
          1.0252350568771362,
          1.0819385051727295,
          1.0091618299484253,
          0.8767440319061279,
          0.7152828574180603,
          0.8610665798187256,
          0.9560669660568237,
          0.7160088419914246,
          0.8273577690124512,
          0.7674003839492798,
          0.82974773645401,
          0.7529183030128479,
          0.6722601652145386,
          0.7306991815567017,
          0.7301172614097595,
          0.7639034390449524,
          0.7602452039718628,
          0.5960515141487122,
          0.9589837789535522,
          0.6737836003303528,
          0.6552358865737915,
          0.4662915766239166,
          0.6583096981048584,
          0.523502767086029,
          0.7014241218566895,
          0.6115772128105164,
          0.722679853439331,
          0.5301729440689087,
          0.5377673506736755,
          0.8452486991882324,
          0.512640118598938,
          0.41439181566238403,
          0.4587152898311615,
          0.5379469394683838,
          0.4712846875190735,
          0.4268187880516052,
          0.4376557171344757,
          0.505620002746582,
          0.43054917454719543,
          0.6603127121925354,
          0.4829855263233185,
          0.43703171610832214,
          0.4643995463848114,
          0.7232795357704163,
          0.39175742864608765,
          0.6205026507377625,
          0.5583638548851013,
          0.3877916932106018,
          0.5199547410011292,
          0.38301512598991394,
          0.4598042368888855,
          0.5218845009803772,
          0.39239010214805603,
          0.5380221605300903,
          0.48484063148498535,
          0.47320041060447693,
          0.474805623292923,
          0.6889896392822266,
          0.4263448417186737,
          0.3722385764122009
         ]
        }
       ],
       "layout": {
        "template": {
         "data": {
          "bar": [
           {
            "error_x": {
             "color": "#2a3f5f"
            },
            "error_y": {
             "color": "#2a3f5f"
            },
            "marker": {
             "line": {
              "color": "#E5ECF6",
              "width": 0.5
             },
             "pattern": {
              "fillmode": "overlay",
              "size": 10,
              "solidity": 0.2
             }
            },
            "type": "bar"
           }
          ],
          "barpolar": [
           {
            "marker": {
             "line": {
              "color": "#E5ECF6",
              "width": 0.5
             },
             "pattern": {
              "fillmode": "overlay",
              "size": 10,
              "solidity": 0.2
             }
            },
            "type": "barpolar"
           }
          ],
          "carpet": [
           {
            "aaxis": {
             "endlinecolor": "#2a3f5f",
             "gridcolor": "white",
             "linecolor": "white",
             "minorgridcolor": "white",
             "startlinecolor": "#2a3f5f"
            },
            "baxis": {
             "endlinecolor": "#2a3f5f",
             "gridcolor": "white",
             "linecolor": "white",
             "minorgridcolor": "white",
             "startlinecolor": "#2a3f5f"
            },
            "type": "carpet"
           }
          ],
          "choropleth": [
           {
            "colorbar": {
             "outlinewidth": 0,
             "ticks": ""
            },
            "type": "choropleth"
           }
          ],
          "contour": [
           {
            "colorbar": {
             "outlinewidth": 0,
             "ticks": ""
            },
            "colorscale": [
             [
              0,
              "#0d0887"
             ],
             [
              0.1111111111111111,
              "#46039f"
             ],
             [
              0.2222222222222222,
              "#7201a8"
             ],
             [
              0.3333333333333333,
              "#9c179e"
             ],
             [
              0.4444444444444444,
              "#bd3786"
             ],
             [
              0.5555555555555556,
              "#d8576b"
             ],
             [
              0.6666666666666666,
              "#ed7953"
             ],
             [
              0.7777777777777778,
              "#fb9f3a"
             ],
             [
              0.8888888888888888,
              "#fdca26"
             ],
             [
              1,
              "#f0f921"
             ]
            ],
            "type": "contour"
           }
          ],
          "contourcarpet": [
           {
            "colorbar": {
             "outlinewidth": 0,
             "ticks": ""
            },
            "type": "contourcarpet"
           }
          ],
          "heatmap": [
           {
            "colorbar": {
             "outlinewidth": 0,
             "ticks": ""
            },
            "colorscale": [
             [
              0,
              "#0d0887"
             ],
             [
              0.1111111111111111,
              "#46039f"
             ],
             [
              0.2222222222222222,
              "#7201a8"
             ],
             [
              0.3333333333333333,
              "#9c179e"
             ],
             [
              0.4444444444444444,
              "#bd3786"
             ],
             [
              0.5555555555555556,
              "#d8576b"
             ],
             [
              0.6666666666666666,
              "#ed7953"
             ],
             [
              0.7777777777777778,
              "#fb9f3a"
             ],
             [
              0.8888888888888888,
              "#fdca26"
             ],
             [
              1,
              "#f0f921"
             ]
            ],
            "type": "heatmap"
           }
          ],
          "heatmapgl": [
           {
            "colorbar": {
             "outlinewidth": 0,
             "ticks": ""
            },
            "colorscale": [
             [
              0,
              "#0d0887"
             ],
             [
              0.1111111111111111,
              "#46039f"
             ],
             [
              0.2222222222222222,
              "#7201a8"
             ],
             [
              0.3333333333333333,
              "#9c179e"
             ],
             [
              0.4444444444444444,
              "#bd3786"
             ],
             [
              0.5555555555555556,
              "#d8576b"
             ],
             [
              0.6666666666666666,
              "#ed7953"
             ],
             [
              0.7777777777777778,
              "#fb9f3a"
             ],
             [
              0.8888888888888888,
              "#fdca26"
             ],
             [
              1,
              "#f0f921"
             ]
            ],
            "type": "heatmapgl"
           }
          ],
          "histogram": [
           {
            "marker": {
             "pattern": {
              "fillmode": "overlay",
              "size": 10,
              "solidity": 0.2
             }
            },
            "type": "histogram"
           }
          ],
          "histogram2d": [
           {
            "colorbar": {
             "outlinewidth": 0,
             "ticks": ""
            },
            "colorscale": [
             [
              0,
              "#0d0887"
             ],
             [
              0.1111111111111111,
              "#46039f"
             ],
             [
              0.2222222222222222,
              "#7201a8"
             ],
             [
              0.3333333333333333,
              "#9c179e"
             ],
             [
              0.4444444444444444,
              "#bd3786"
             ],
             [
              0.5555555555555556,
              "#d8576b"
             ],
             [
              0.6666666666666666,
              "#ed7953"
             ],
             [
              0.7777777777777778,
              "#fb9f3a"
             ],
             [
              0.8888888888888888,
              "#fdca26"
             ],
             [
              1,
              "#f0f921"
             ]
            ],
            "type": "histogram2d"
           }
          ],
          "histogram2dcontour": [
           {
            "colorbar": {
             "outlinewidth": 0,
             "ticks": ""
            },
            "colorscale": [
             [
              0,
              "#0d0887"
             ],
             [
              0.1111111111111111,
              "#46039f"
             ],
             [
              0.2222222222222222,
              "#7201a8"
             ],
             [
              0.3333333333333333,
              "#9c179e"
             ],
             [
              0.4444444444444444,
              "#bd3786"
             ],
             [
              0.5555555555555556,
              "#d8576b"
             ],
             [
              0.6666666666666666,
              "#ed7953"
             ],
             [
              0.7777777777777778,
              "#fb9f3a"
             ],
             [
              0.8888888888888888,
              "#fdca26"
             ],
             [
              1,
              "#f0f921"
             ]
            ],
            "type": "histogram2dcontour"
           }
          ],
          "mesh3d": [
           {
            "colorbar": {
             "outlinewidth": 0,
             "ticks": ""
            },
            "type": "mesh3d"
           }
          ],
          "parcoords": [
           {
            "line": {
             "colorbar": {
              "outlinewidth": 0,
              "ticks": ""
             }
            },
            "type": "parcoords"
           }
          ],
          "pie": [
           {
            "automargin": true,
            "type": "pie"
           }
          ],
          "scatter": [
           {
            "fillpattern": {
             "fillmode": "overlay",
             "size": 10,
             "solidity": 0.2
            },
            "type": "scatter"
           }
          ],
          "scatter3d": [
           {
            "line": {
             "colorbar": {
              "outlinewidth": 0,
              "ticks": ""
             }
            },
            "marker": {
             "colorbar": {
              "outlinewidth": 0,
              "ticks": ""
             }
            },
            "type": "scatter3d"
           }
          ],
          "scattercarpet": [
           {
            "marker": {
             "colorbar": {
              "outlinewidth": 0,
              "ticks": ""
             }
            },
            "type": "scattercarpet"
           }
          ],
          "scattergeo": [
           {
            "marker": {
             "colorbar": {
              "outlinewidth": 0,
              "ticks": ""
             }
            },
            "type": "scattergeo"
           }
          ],
          "scattergl": [
           {
            "marker": {
             "colorbar": {
              "outlinewidth": 0,
              "ticks": ""
             }
            },
            "type": "scattergl"
           }
          ],
          "scattermapbox": [
           {
            "marker": {
             "colorbar": {
              "outlinewidth": 0,
              "ticks": ""
             }
            },
            "type": "scattermapbox"
           }
          ],
          "scatterpolar": [
           {
            "marker": {
             "colorbar": {
              "outlinewidth": 0,
              "ticks": ""
             }
            },
            "type": "scatterpolar"
           }
          ],
          "scatterpolargl": [
           {
            "marker": {
             "colorbar": {
              "outlinewidth": 0,
              "ticks": ""
             }
            },
            "type": "scatterpolargl"
           }
          ],
          "scatterternary": [
           {
            "marker": {
             "colorbar": {
              "outlinewidth": 0,
              "ticks": ""
             }
            },
            "type": "scatterternary"
           }
          ],
          "surface": [
           {
            "colorbar": {
             "outlinewidth": 0,
             "ticks": ""
            },
            "colorscale": [
             [
              0,
              "#0d0887"
             ],
             [
              0.1111111111111111,
              "#46039f"
             ],
             [
              0.2222222222222222,
              "#7201a8"
             ],
             [
              0.3333333333333333,
              "#9c179e"
             ],
             [
              0.4444444444444444,
              "#bd3786"
             ],
             [
              0.5555555555555556,
              "#d8576b"
             ],
             [
              0.6666666666666666,
              "#ed7953"
             ],
             [
              0.7777777777777778,
              "#fb9f3a"
             ],
             [
              0.8888888888888888,
              "#fdca26"
             ],
             [
              1,
              "#f0f921"
             ]
            ],
            "type": "surface"
           }
          ],
          "table": [
           {
            "cells": {
             "fill": {
              "color": "#EBF0F8"
             },
             "line": {
              "color": "white"
             }
            },
            "header": {
             "fill": {
              "color": "#C8D4E3"
             },
             "line": {
              "color": "white"
             }
            },
            "type": "table"
           }
          ]
         },
         "layout": {
          "annotationdefaults": {
           "arrowcolor": "#2a3f5f",
           "arrowhead": 0,
           "arrowwidth": 1
          },
          "autotypenumbers": "strict",
          "coloraxis": {
           "colorbar": {
            "outlinewidth": 0,
            "ticks": ""
           }
          },
          "colorscale": {
           "diverging": [
            [
             0,
             "#8e0152"
            ],
            [
             0.1,
             "#c51b7d"
            ],
            [
             0.2,
             "#de77ae"
            ],
            [
             0.3,
             "#f1b6da"
            ],
            [
             0.4,
             "#fde0ef"
            ],
            [
             0.5,
             "#f7f7f7"
            ],
            [
             0.6,
             "#e6f5d0"
            ],
            [
             0.7,
             "#b8e186"
            ],
            [
             0.8,
             "#7fbc41"
            ],
            [
             0.9,
             "#4d9221"
            ],
            [
             1,
             "#276419"
            ]
           ],
           "sequential": [
            [
             0,
             "#0d0887"
            ],
            [
             0.1111111111111111,
             "#46039f"
            ],
            [
             0.2222222222222222,
             "#7201a8"
            ],
            [
             0.3333333333333333,
             "#9c179e"
            ],
            [
             0.4444444444444444,
             "#bd3786"
            ],
            [
             0.5555555555555556,
             "#d8576b"
            ],
            [
             0.6666666666666666,
             "#ed7953"
            ],
            [
             0.7777777777777778,
             "#fb9f3a"
            ],
            [
             0.8888888888888888,
             "#fdca26"
            ],
            [
             1,
             "#f0f921"
            ]
           ],
           "sequentialminus": [
            [
             0,
             "#0d0887"
            ],
            [
             0.1111111111111111,
             "#46039f"
            ],
            [
             0.2222222222222222,
             "#7201a8"
            ],
            [
             0.3333333333333333,
             "#9c179e"
            ],
            [
             0.4444444444444444,
             "#bd3786"
            ],
            [
             0.5555555555555556,
             "#d8576b"
            ],
            [
             0.6666666666666666,
             "#ed7953"
            ],
            [
             0.7777777777777778,
             "#fb9f3a"
            ],
            [
             0.8888888888888888,
             "#fdca26"
            ],
            [
             1,
             "#f0f921"
            ]
           ]
          },
          "colorway": [
           "#636efa",
           "#EF553B",
           "#00cc96",
           "#ab63fa",
           "#FFA15A",
           "#19d3f3",
           "#FF6692",
           "#B6E880",
           "#FF97FF",
           "#FECB52"
          ],
          "font": {
           "color": "#2a3f5f"
          },
          "geo": {
           "bgcolor": "white",
           "lakecolor": "white",
           "landcolor": "#E5ECF6",
           "showlakes": true,
           "showland": true,
           "subunitcolor": "white"
          },
          "hoverlabel": {
           "align": "left"
          },
          "hovermode": "closest",
          "mapbox": {
           "style": "light"
          },
          "paper_bgcolor": "white",
          "plot_bgcolor": "#E5ECF6",
          "polar": {
           "angularaxis": {
            "gridcolor": "white",
            "linecolor": "white",
            "ticks": ""
           },
           "bgcolor": "#E5ECF6",
           "radialaxis": {
            "gridcolor": "white",
            "linecolor": "white",
            "ticks": ""
           }
          },
          "scene": {
           "xaxis": {
            "backgroundcolor": "#E5ECF6",
            "gridcolor": "white",
            "gridwidth": 2,
            "linecolor": "white",
            "showbackground": true,
            "ticks": "",
            "zerolinecolor": "white"
           },
           "yaxis": {
            "backgroundcolor": "#E5ECF6",
            "gridcolor": "white",
            "gridwidth": 2,
            "linecolor": "white",
            "showbackground": true,
            "ticks": "",
            "zerolinecolor": "white"
           },
           "zaxis": {
            "backgroundcolor": "#E5ECF6",
            "gridcolor": "white",
            "gridwidth": 2,
            "linecolor": "white",
            "showbackground": true,
            "ticks": "",
            "zerolinecolor": "white"
           }
          },
          "shapedefaults": {
           "line": {
            "color": "#2a3f5f"
           }
          },
          "ternary": {
           "aaxis": {
            "gridcolor": "white",
            "linecolor": "white",
            "ticks": ""
           },
           "baxis": {
            "gridcolor": "white",
            "linecolor": "white",
            "ticks": ""
           },
           "bgcolor": "#E5ECF6",
           "caxis": {
            "gridcolor": "white",
            "linecolor": "white",
            "ticks": ""
           }
          },
          "title": {
           "x": 0.05
          },
          "xaxis": {
           "automargin": true,
           "gridcolor": "white",
           "linecolor": "white",
           "ticks": "",
           "title": {
            "standoff": 15
           },
           "zerolinecolor": "white",
           "zerolinewidth": 2
          },
          "yaxis": {
           "automargin": true,
           "gridcolor": "white",
           "linecolor": "white",
           "ticks": "",
           "title": {
            "standoff": 15
           },
           "zerolinecolor": "white",
           "zerolinewidth": 2
          }
         }
        },
        "title": {
         "text": "Training Loss over Time"
        },
        "xaxis": {
         "showgrid": true,
         "showline": true,
         "showticklabels": true,
         "title": {
          "text": "Iteration"
         }
        },
        "yaxis": {
         "showgrid": true,
         "showline": true,
         "showticklabels": true,
         "title": {
          "text": "Loss"
         }
        }
       }
      }
     },
     "metadata": {},
     "output_type": "display_data"
    }
   ],
   "source": [
    "# Create the figure\n",
    "fig = go.Figure()\n",
    "\n",
    "# Add the loss curve data\n",
    "fig.add_trace(go.Scatter(y=loss_list_sigmoid, mode='lines', name='Loss'))\n",
    "\n",
    "# Set the layout for the figure\n",
    "fig.update_layout(\n",
    "    title='Training Loss over Time',\n",
    "    xaxis_title='Iteration',\n",
    "    yaxis_title='Loss',\n",
    "    xaxis=dict(showgrid=True, showline=True, showticklabels=True),\n",
    "    yaxis=dict(showgrid=True, showline=True, showticklabels=True)\n",
    ")\n",
    "\n",
    "# Display the figure\n",
    "fig.show()"
   ]
  },
  {
   "cell_type": "code",
   "execution_count": 44,
   "metadata": {},
   "outputs": [
    {
     "data": {
      "image/png": "[encoded data removed]",
      "text/plain": [
       "<IPython.core.display.Image object>"
      ]
     },
     "execution_count": 44,
     "metadata": {},
     "output_type": "execute_result"
    }
   ],
   "source": [
    "img_bytes = pio.to_image(fig, format=\"png\")\n",
    "Image(img_bytes)"
   ]
  },
  {
   "cell_type": "markdown",
   "metadata": {},
   "source": [
    "4. Try different weight initialization a) all weights initialized to 0, and b) initialize the weights randomly between -1 and 1. Report test error and learning curves for both. (You can use either of the implementations) (3 pts)"
   ]
  },
  {
   "cell_type": "code",
   "execution_count": 32,
   "metadata": {},
   "outputs": [],
   "source": [
    "# Load the training and test datasets\n",
    "transform = transforms.Compose([transforms.ToTensor(), transforms.Normalize((0.5,), (0.5,))])\n",
    "train_dataset = torchvision.datasets.MNIST(root='./data', train=True, transform=transform, download=True)\n",
    "test_dataset = torchvision.datasets.MNIST(root='./data', train=False, transform=transform)\n",
    "train_loader = torch.utils.data.DataLoader(dataset=train_dataset, batch_size=64, shuffle=True)\n",
    "test_loader = torch.utils.data.DataLoader(dataset=test_dataset, batch_size=64, shuffle=False)\n"
   ]
  },
  {
   "cell_type": "code",
   "execution_count": 33,
   "metadata": {},
   "outputs": [],
   "source": [
    "# Define the Network Architecture with Sigmoid for hidden layers\n",
    "class NeuralNetworkSigmoid(nn.Module):\n",
    "    def __init__(self, input_size, hidden_size1, hidden_size2, output_size):\n",
    "        super(NeuralNetworkSigmoid, self).__init__()\n",
    "        self.fc1 = nn.Linear(input_size, hidden_size1)\n",
    "        self.fc2 = nn.Linear(hidden_size1, hidden_size2)\n",
    "        self.fc3 = nn.Linear(hidden_size2, output_size)\n",
    "        self.sigmoid = nn.Sigmoid()\n",
    "    \n",
    "    def forward(self, x):\n",
    "        x = self.sigmoid(self.fc1(x))\n",
    "        x = self.sigmoid(self.fc2(x))\n",
    "        x = self.fc3(x)\n",
    "        return x"
   ]
  },
  {
   "cell_type": "code",
   "execution_count": 34,
   "metadata": {},
   "outputs": [],
   "source": [
    "# Define custom weight initializations\n",
    "def zero_weights_initialization(model):\n",
    "    for m in model.modules():\n",
    "        if isinstance(m, nn.Linear):\n",
    "            nn.init.constant_(m.weight, 0)\n",
    "            nn.init.constant_(m.bias, 0)\n",
    "\n",
    "def random_weights_initialization(model):\n",
    "    for m in model.modules():\n",
    "        if isinstance(m, nn.Linear):\n",
    "            nn.init.uniform_(m.weight, -1, 1)\n",
    "            nn.init.uniform_(m.bias, -1, 1)\n",
    "\n",
    "# Initialize models and apply custom weight initializations\n",
    "model_zero = NeuralNetworkSigmoid(28*28, 300, 200, 10)\n",
    "model_random = NeuralNetworkSigmoid(28*28, 300, 200, 10)\n",
    "\n",
    "zero_weights_initialization(model_zero)\n",
    "random_weights_initialization(model_random)"
   ]
  },
  {
   "cell_type": "code",
   "execution_count": 35,
   "metadata": {},
   "outputs": [],
   "source": [
    "# Training function\n",
    "def train_model(model, num_epochs=10):\n",
    "    learning_rate = 0.01\n",
    "    optimizer = optim.SGD(model.parameters(), lr=learning_rate)\n",
    "    criterion = nn.CrossEntropyLoss()\n",
    "    loss_list = []\n",
    "\n",
    "    for epoch in range(num_epochs):\n",
    "        for i, (images, labels) in enumerate(train_loader):\n",
    "            images = images.view(-1, 28*28)\n",
    "            optimizer.zero_grad()\n",
    "            outputs = model(images)\n",
    "            loss = criterion(outputs, labels)\n",
    "            loss.backward()\n",
    "            optimizer.step()\n",
    "            \n",
    "            if (i+1) % 100 == 0:\n",
    "                print(f'Epoch [{epoch+1}/{num_epochs}], Step [{i+1}/{len(train_loader)}], Loss: {loss.item()}')\n",
    "                loss_list.append(loss.item())\n",
    "                \n",
    "    return loss_list\n",
    "\n",
    "# Testing function\n",
    "def test_model(model):\n",
    "    correct = 0\n",
    "    total = 0\n",
    "    with torch.no_grad():\n",
    "        for images, labels in test_loader:\n",
    "            images = images.view(-1, 28*28)\n",
    "            outputs = model(images)\n",
    "            _, predicted = torch.max(outputs.data, 1)\n",
    "            total += labels.size(0)\n",
    "            correct += (predicted == labels).sum().item()\n",
    "\n",
    "    return 100 * correct / total"
   ]
  },
  {
   "cell_type": "code",
   "execution_count": 36,
   "metadata": {},
   "outputs": [
    {
     "name": "stdout",
     "output_type": "stream",
     "text": [
      "Epoch [1/10], Step [100/938], Loss: 2.2959036827087402\n",
      "Epoch [1/10], Step [200/938], Loss: 2.3098185062408447\n",
      "Epoch [1/10], Step [300/938], Loss: 2.2983412742614746\n",
      "Epoch [1/10], Step [400/938], Loss: 2.300004243850708\n",
      "Epoch [1/10], Step [500/938], Loss: 2.324035882949829\n",
      "Epoch [1/10], Step [600/938], Loss: 2.2947351932525635\n",
      "Epoch [1/10], Step [700/938], Loss: 2.300985813140869\n",
      "Epoch [1/10], Step [800/938], Loss: 2.2945473194122314\n",
      "Epoch [1/10], Step [900/938], Loss: 2.2986879348754883\n",
      "Epoch [2/10], Step [100/938], Loss: 2.2957682609558105\n",
      "Epoch [2/10], Step [200/938], Loss: 2.3193600177764893\n",
      "Epoch [2/10], Step [300/938], Loss: 2.3031725883483887\n",
      "Epoch [2/10], Step [400/938], Loss: 2.308579444885254\n",
      "Epoch [2/10], Step [500/938], Loss: 2.313770055770874\n",
      "Epoch [2/10], Step [600/938], Loss: 2.291682481765747\n",
      "Epoch [2/10], Step [700/938], Loss: 2.3063442707061768\n",
      "Epoch [2/10], Step [800/938], Loss: 2.308854103088379\n",
      "Epoch [2/10], Step [900/938], Loss: 2.3122706413269043\n",
      "Epoch [3/10], Step [100/938], Loss: 2.3091959953308105\n",
      "Epoch [3/10], Step [200/938], Loss: 2.3086392879486084\n",
      "Epoch [3/10], Step [300/938], Loss: 2.2995505332946777\n",
      "Epoch [3/10], Step [400/938], Loss: 2.315145969390869\n",
      "Epoch [3/10], Step [500/938], Loss: 2.2901668548583984\n",
      "Epoch [3/10], Step [600/938], Loss: 2.297959327697754\n",
      "Epoch [3/10], Step [700/938], Loss: 2.3273708820343018\n",
      "Epoch [3/10], Step [800/938], Loss: 2.282715082168579\n",
      "Epoch [3/10], Step [900/938], Loss: 2.2930617332458496\n",
      "Epoch [4/10], Step [100/938], Loss: 2.3076090812683105\n",
      "Epoch [4/10], Step [200/938], Loss: 2.3027360439300537\n",
      "Epoch [4/10], Step [300/938], Loss: 2.294618844985962\n",
      "Epoch [4/10], Step [400/938], Loss: 2.286463499069214\n",
      "Epoch [4/10], Step [500/938], Loss: 2.3102128505706787\n",
      "Epoch [4/10], Step [600/938], Loss: 2.3031625747680664\n",
      "Epoch [4/10], Step [700/938], Loss: 2.2965002059936523\n",
      "Epoch [4/10], Step [800/938], Loss: 2.3000760078430176\n",
      "Epoch [4/10], Step [900/938], Loss: 2.2989449501037598\n",
      "Epoch [5/10], Step [100/938], Loss: 2.287170171737671\n",
      "Epoch [5/10], Step [200/938], Loss: 2.313420057296753\n",
      "Epoch [5/10], Step [300/938], Loss: 2.2981622219085693\n",
      "Epoch [5/10], Step [400/938], Loss: 2.293731451034546\n",
      "Epoch [5/10], Step [500/938], Loss: 2.299309730529785\n",
      "Epoch [5/10], Step [600/938], Loss: 2.298801898956299\n",
      "Epoch [5/10], Step [700/938], Loss: 2.2951977252960205\n",
      "Epoch [5/10], Step [800/938], Loss: 2.304935932159424\n",
      "Epoch [5/10], Step [900/938], Loss: 2.288813591003418\n",
      "Epoch [6/10], Step [100/938], Loss: 2.3064780235290527\n",
      "Epoch [6/10], Step [200/938], Loss: 2.309649705886841\n",
      "Epoch [6/10], Step [300/938], Loss: 2.2970387935638428\n",
      "Epoch [6/10], Step [400/938], Loss: 2.306081771850586\n",
      "Epoch [6/10], Step [500/938], Loss: 2.301093101501465\n",
      "Epoch [6/10], Step [600/938], Loss: 2.316398859024048\n",
      "Epoch [6/10], Step [700/938], Loss: 2.2961008548736572\n",
      "Epoch [6/10], Step [800/938], Loss: 2.3125345706939697\n",
      "Epoch [6/10], Step [900/938], Loss: 2.3104517459869385\n",
      "Epoch [7/10], Step [100/938], Loss: 2.284198522567749\n",
      "Epoch [7/10], Step [200/938], Loss: 2.28190279006958\n",
      "Epoch [7/10], Step [300/938], Loss: 2.2970802783966064\n",
      "Epoch [7/10], Step [400/938], Loss: 2.292177438735962\n",
      "Epoch [7/10], Step [500/938], Loss: 2.3092918395996094\n",
      "Epoch [7/10], Step [600/938], Loss: 2.3049864768981934\n",
      "Epoch [7/10], Step [700/938], Loss: 2.289271593093872\n",
      "Epoch [7/10], Step [800/938], Loss: 2.294886350631714\n",
      "Epoch [7/10], Step [900/938], Loss: 2.3200173377990723\n",
      "Epoch [8/10], Step [100/938], Loss: 2.28857421875\n",
      "Epoch [8/10], Step [200/938], Loss: 2.285102605819702\n",
      "Epoch [8/10], Step [300/938], Loss: 2.3046154975891113\n",
      "Epoch [8/10], Step [400/938], Loss: 2.3181662559509277\n",
      "Epoch [8/10], Step [500/938], Loss: 2.2945666313171387\n",
      "Epoch [8/10], Step [600/938], Loss: 2.302605152130127\n",
      "Epoch [8/10], Step [700/938], Loss: 2.29838228225708\n",
      "Epoch [8/10], Step [800/938], Loss: 2.3037962913513184\n",
      "Epoch [8/10], Step [900/938], Loss: 2.3151023387908936\n",
      "Epoch [9/10], Step [100/938], Loss: 2.300825357437134\n",
      "Epoch [9/10], Step [200/938], Loss: 2.297396421432495\n",
      "Epoch [9/10], Step [300/938], Loss: 2.304267168045044\n",
      "Epoch [9/10], Step [400/938], Loss: 2.3073456287384033\n",
      "Epoch [9/10], Step [500/938], Loss: 2.298769474029541\n",
      "Epoch [9/10], Step [600/938], Loss: 2.3157100677490234\n",
      "Epoch [9/10], Step [700/938], Loss: 2.2858476638793945\n",
      "Epoch [9/10], Step [800/938], Loss: 2.289113759994507\n",
      "Epoch [9/10], Step [900/938], Loss: 2.312711477279663\n",
      "Epoch [10/10], Step [100/938], Loss: 2.3149399757385254\n",
      "Epoch [10/10], Step [200/938], Loss: 2.302381992340088\n",
      "Epoch [10/10], Step [300/938], Loss: 2.312058448791504\n",
      "Epoch [10/10], Step [400/938], Loss: 2.3146228790283203\n",
      "Epoch [10/10], Step [500/938], Loss: 2.3108367919921875\n",
      "Epoch [10/10], Step [600/938], Loss: 2.2990293502807617\n",
      "Epoch [10/10], Step [700/938], Loss: 2.3037703037261963\n",
      "Epoch [10/10], Step [800/938], Loss: 2.301426649093628\n",
      "Epoch [10/10], Step [900/938], Loss: 2.3111307621002197\n",
      "Epoch [1/10], Step [100/938], Loss: 2.953606128692627\n",
      "Epoch [1/10], Step [200/938], Loss: 1.9727871417999268\n",
      "Epoch [1/10], Step [300/938], Loss: 1.8311190605163574\n",
      "Epoch [1/10], Step [400/938], Loss: 1.6887493133544922\n",
      "Epoch [1/10], Step [500/938], Loss: 1.4824713468551636\n",
      "Epoch [1/10], Step [600/938], Loss: 1.508542776107788\n",
      "Epoch [1/10], Step [700/938], Loss: 1.0630067586898804\n",
      "Epoch [1/10], Step [800/938], Loss: 1.2491583824157715\n",
      "Epoch [1/10], Step [900/938], Loss: 0.9693819880485535\n",
      "Epoch [2/10], Step [100/938], Loss: 0.8525758981704712\n",
      "Epoch [2/10], Step [200/938], Loss: 1.0639961957931519\n",
      "Epoch [2/10], Step [300/938], Loss: 1.3694777488708496\n",
      "Epoch [2/10], Step [400/938], Loss: 0.7700785994529724\n",
      "Epoch [2/10], Step [500/938], Loss: 0.856069028377533\n",
      "Epoch [2/10], Step [600/938], Loss: 1.098111629486084\n",
      "Epoch [2/10], Step [700/938], Loss: 0.8513131141662598\n",
      "Epoch [2/10], Step [800/938], Loss: 1.1163603067398071\n",
      "Epoch [2/10], Step [900/938], Loss: 1.30469810962677\n",
      "Epoch [3/10], Step [100/938], Loss: 0.8735064268112183\n",
      "Epoch [3/10], Step [200/938], Loss: 1.0822932720184326\n",
      "Epoch [3/10], Step [300/938], Loss: 0.6591507792472839\n",
      "Epoch [3/10], Step [400/938], Loss: 0.9457104802131653\n",
      "Epoch [3/10], Step [500/938], Loss: 0.8144713044166565\n",
      "Epoch [3/10], Step [600/938], Loss: 1.1147946119308472\n",
      "Epoch [3/10], Step [700/938], Loss: 0.9592292308807373\n",
      "Epoch [3/10], Step [800/938], Loss: 0.5626049637794495\n",
      "Epoch [3/10], Step [900/938], Loss: 0.8171972632408142\n",
      "Epoch [4/10], Step [100/938], Loss: 0.6341459155082703\n",
      "Epoch [4/10], Step [200/938], Loss: 0.6588419079780579\n",
      "Epoch [4/10], Step [300/938], Loss: 0.6808494925498962\n",
      "Epoch [4/10], Step [400/938], Loss: 0.5139976739883423\n",
      "Epoch [4/10], Step [500/938], Loss: 0.7045794725418091\n",
      "Epoch [4/10], Step [600/938], Loss: 0.6749289035797119\n",
      "Epoch [4/10], Step [700/938], Loss: 0.800560712814331\n",
      "Epoch [4/10], Step [800/938], Loss: 0.7610225677490234\n",
      "Epoch [4/10], Step [900/938], Loss: 0.5226768851280212\n",
      "Epoch [5/10], Step [100/938], Loss: 0.48000991344451904\n",
      "Epoch [5/10], Step [200/938], Loss: 0.7091707587242126\n",
      "Epoch [5/10], Step [300/938], Loss: 0.6106627583503723\n",
      "Epoch [5/10], Step [400/938], Loss: 0.5412269234657288\n",
      "Epoch [5/10], Step [500/938], Loss: 0.900904655456543\n",
      "Epoch [5/10], Step [600/938], Loss: 0.6600114107131958\n",
      "Epoch [5/10], Step [700/938], Loss: 0.5399045348167419\n",
      "Epoch [5/10], Step [800/938], Loss: 0.7446325421333313\n",
      "Epoch [5/10], Step [900/938], Loss: 0.4665955603122711\n",
      "Epoch [6/10], Step [100/938], Loss: 0.5178843140602112\n",
      "Epoch [6/10], Step [200/938], Loss: 0.30246806144714355\n",
      "Epoch [6/10], Step [300/938], Loss: 0.47359079122543335\n",
      "Epoch [6/10], Step [400/938], Loss: 0.5458940267562866\n",
      "Epoch [6/10], Step [500/938], Loss: 0.37737202644348145\n",
      "Epoch [6/10], Step [600/938], Loss: 0.49188363552093506\n",
      "Epoch [6/10], Step [700/938], Loss: 0.5421923995018005\n",
      "Epoch [6/10], Step [800/938], Loss: 0.6272466778755188\n",
      "Epoch [6/10], Step [900/938], Loss: 0.5193513035774231\n",
      "Epoch [7/10], Step [100/938], Loss: 0.26116812229156494\n",
      "Epoch [7/10], Step [200/938], Loss: 0.590369701385498\n",
      "Epoch [7/10], Step [300/938], Loss: 0.4917355179786682\n",
      "Epoch [7/10], Step [400/938], Loss: 0.5760741233825684\n",
      "Epoch [7/10], Step [500/938], Loss: 0.6997534036636353\n",
      "Epoch [7/10], Step [600/938], Loss: 0.5752143859863281\n",
      "Epoch [7/10], Step [700/938], Loss: 0.4811353385448456\n",
      "Epoch [7/10], Step [800/938], Loss: 0.5643269419670105\n",
      "Epoch [7/10], Step [900/938], Loss: 0.573438286781311\n",
      "Epoch [8/10], Step [100/938], Loss: 0.7224077582359314\n",
      "Epoch [8/10], Step [200/938], Loss: 0.64201819896698\n",
      "Epoch [8/10], Step [300/938], Loss: 0.3862292766571045\n",
      "Epoch [8/10], Step [400/938], Loss: 0.4425695836544037\n",
      "Epoch [8/10], Step [500/938], Loss: 0.7631415128707886\n",
      "Epoch [8/10], Step [600/938], Loss: 0.33784785866737366\n",
      "Epoch [8/10], Step [700/938], Loss: 0.4337313175201416\n",
      "Epoch [8/10], Step [800/938], Loss: 0.556617796421051\n",
      "Epoch [8/10], Step [900/938], Loss: 0.5486451387405396\n",
      "Epoch [9/10], Step [100/938], Loss: 0.48117464780807495\n",
      "Epoch [9/10], Step [200/938], Loss: 0.5255522727966309\n",
      "Epoch [9/10], Step [300/938], Loss: 0.5729469656944275\n",
      "Epoch [9/10], Step [400/938], Loss: 0.6391357779502869\n",
      "Epoch [9/10], Step [500/938], Loss: 0.5159413814544678\n",
      "Epoch [9/10], Step [600/938], Loss: 0.44273942708969116\n",
      "Epoch [9/10], Step [700/938], Loss: 0.26776325702667236\n",
      "Epoch [9/10], Step [800/938], Loss: 0.6065534949302673\n",
      "Epoch [9/10], Step [900/938], Loss: 0.407464861869812\n",
      "Epoch [10/10], Step [100/938], Loss: 0.34952011704444885\n",
      "Epoch [10/10], Step [200/938], Loss: 0.3152521252632141\n",
      "Epoch [10/10], Step [300/938], Loss: 0.4001403748989105\n",
      "Epoch [10/10], Step [400/938], Loss: 0.4168870151042938\n",
      "Epoch [10/10], Step [500/938], Loss: 0.4659384787082672\n",
      "Epoch [10/10], Step [600/938], Loss: 0.28651031851768494\n",
      "Epoch [10/10], Step [700/938], Loss: 0.4751476049423218\n",
      "Epoch [10/10], Step [800/938], Loss: 0.5462862253189087\n",
      "Epoch [10/10], Step [900/938], Loss: 0.4771941006183624\n",
      "Accuracy with Zero Initialization: 10.28 %\n",
      "Number of parameters in the network: 297710\n",
      "Hyperparameters: 10, 64, 0.01\n"
     ]
    }
   ],
   "source": [
    "# Train and test functions remain the same ...\n",
    "\n",
    "loss_list_zero = train_model(model_zero)\n",
    "loss_list_random = train_model(model_random)\n",
    "\n",
    "accuracy_zero = test_model(model_zero)\n",
    "accuracy_random = test_model(model_random)\n",
    "\n",
    "print(f'Accuracy with Zero Initialization: {accuracy_zero} %')\n",
    "print(f'Number of parameters in the network: {sum(p.numel() for p in model_zero.parameters())}')\n",
    "print(f'Hyperparameters: {num_epochs}, {batch_size}, {learning_rate}')"
   ]
  },
  {
   "cell_type": "code",
   "execution_count": 37,
   "metadata": {},
   "outputs": [
    {
     "name": "stdout",
     "output_type": "stream",
     "text": [
      "Accuracy with Random Initialization: 85.8 %\n",
      "Number of parameters in the network: 297710\n",
      "Hyperparameters: 10, 64, 0.01\n"
     ]
    }
   ],
   "source": [
    "print(f'Accuracy with Random Initialization: {accuracy_random} %')\n",
    "print(f'Number of parameters in the network: {sum(p.numel() for p in model_random.parameters())}')\n",
    "print(f'Hyperparameters: {num_epochs}, {batch_size}, {learning_rate}')"
   ]
  },
  {
   "cell_type": "code",
   "execution_count": 45,
   "metadata": {},
   "outputs": [
    {
     "data": {
      "application/vnd.plotly.v1+json": {
       "config": {
        "plotlyServerURL": "https://plot.ly"
       },
       "data": [
        {
         "mode": "lines",
         "name": "Zero Initialization",
         "type": "scatter",
         "y": [
          2.2959036827087402,
          2.3098185062408447,
          2.2983412742614746,
          2.300004243850708,
          2.324035882949829,
          2.2947351932525635,
          2.300985813140869,
          2.2945473194122314,
          2.2986879348754883,
          2.2957682609558105,
          2.3193600177764893,
          2.3031725883483887,
          2.308579444885254,
          2.313770055770874,
          2.291682481765747,
          2.3063442707061768,
          2.308854103088379,
          2.3122706413269043,
          2.3091959953308105,
          2.3086392879486084,
          2.2995505332946777,
          2.315145969390869,
          2.2901668548583984,
          2.297959327697754,
          2.3273708820343018,
          2.282715082168579,
          2.2930617332458496,
          2.3076090812683105,
          2.3027360439300537,
          2.294618844985962,
          2.286463499069214,
          2.3102128505706787,
          2.3031625747680664,
          2.2965002059936523,
          2.3000760078430176,
          2.2989449501037598,
          2.287170171737671,
          2.313420057296753,
          2.2981622219085693,
          2.293731451034546,
          2.299309730529785,
          2.298801898956299,
          2.2951977252960205,
          2.304935932159424,
          2.288813591003418,
          2.3064780235290527,
          2.309649705886841,
          2.2970387935638428,
          2.306081771850586,
          2.301093101501465,
          2.316398859024048,
          2.2961008548736572,
          2.3125345706939697,
          2.3104517459869385,
          2.284198522567749,
          2.28190279006958,
          2.2970802783966064,
          2.292177438735962,
          2.3092918395996094,
          2.3049864768981934,
          2.289271593093872,
          2.294886350631714,
          2.3200173377990723,
          2.28857421875,
          2.285102605819702,
          2.3046154975891113,
          2.3181662559509277,
          2.2945666313171387,
          2.302605152130127,
          2.29838228225708,
          2.3037962913513184,
          2.3151023387908936,
          2.300825357437134,
          2.297396421432495,
          2.304267168045044,
          2.3073456287384033,
          2.298769474029541,
          2.3157100677490234,
          2.2858476638793945,
          2.289113759994507,
          2.312711477279663,
          2.3149399757385254,
          2.302381992340088,
          2.312058448791504,
          2.3146228790283203,
          2.3108367919921875,
          2.2990293502807617,
          2.3037703037261963,
          2.301426649093628,
          2.3111307621002197
         ]
        },
        {
         "mode": "lines",
         "name": "Random Initialization",
         "type": "scatter",
         "y": [
          2.953606128692627,
          1.9727871417999268,
          1.8311190605163574,
          1.6887493133544922,
          1.4824713468551636,
          1.508542776107788,
          1.0630067586898804,
          1.2491583824157715,
          0.9693819880485535,
          0.8525758981704712,
          1.0639961957931519,
          1.3694777488708496,
          0.7700785994529724,
          0.856069028377533,
          1.098111629486084,
          0.8513131141662598,
          1.1163603067398071,
          1.30469810962677,
          0.8735064268112183,
          1.0822932720184326,
          0.6591507792472839,
          0.9457104802131653,
          0.8144713044166565,
          1.1147946119308472,
          0.9592292308807373,
          0.5626049637794495,
          0.8171972632408142,
          0.6341459155082703,
          0.6588419079780579,
          0.6808494925498962,
          0.5139976739883423,
          0.7045794725418091,
          0.6749289035797119,
          0.800560712814331,
          0.7610225677490234,
          0.5226768851280212,
          0.48000991344451904,
          0.7091707587242126,
          0.6106627583503723,
          0.5412269234657288,
          0.900904655456543,
          0.6600114107131958,
          0.5399045348167419,
          0.7446325421333313,
          0.4665955603122711,
          0.5178843140602112,
          0.30246806144714355,
          0.47359079122543335,
          0.5458940267562866,
          0.37737202644348145,
          0.49188363552093506,
          0.5421923995018005,
          0.6272466778755188,
          0.5193513035774231,
          0.26116812229156494,
          0.590369701385498,
          0.4917355179786682,
          0.5760741233825684,
          0.6997534036636353,
          0.5752143859863281,
          0.4811353385448456,
          0.5643269419670105,
          0.573438286781311,
          0.7224077582359314,
          0.64201819896698,
          0.3862292766571045,
          0.4425695836544037,
          0.7631415128707886,
          0.33784785866737366,
          0.4337313175201416,
          0.556617796421051,
          0.5486451387405396,
          0.48117464780807495,
          0.5255522727966309,
          0.5729469656944275,
          0.6391357779502869,
          0.5159413814544678,
          0.44273942708969116,
          0.26776325702667236,
          0.6065534949302673,
          0.407464861869812,
          0.34952011704444885,
          0.3152521252632141,
          0.4001403748989105,
          0.4168870151042938,
          0.4659384787082672,
          0.28651031851768494,
          0.4751476049423218,
          0.5462862253189087,
          0.4771941006183624
         ]
        }
       ],
       "layout": {
        "template": {
         "data": {
          "bar": [
           {
            "error_x": {
             "color": "#2a3f5f"
            },
            "error_y": {
             "color": "#2a3f5f"
            },
            "marker": {
             "line": {
              "color": "#E5ECF6",
              "width": 0.5
             },
             "pattern": {
              "fillmode": "overlay",
              "size": 10,
              "solidity": 0.2
             }
            },
            "type": "bar"
           }
          ],
          "barpolar": [
           {
            "marker": {
             "line": {
              "color": "#E5ECF6",
              "width": 0.5
             },
             "pattern": {
              "fillmode": "overlay",
              "size": 10,
              "solidity": 0.2
             }
            },
            "type": "barpolar"
           }
          ],
          "carpet": [
           {
            "aaxis": {
             "endlinecolor": "#2a3f5f",
             "gridcolor": "white",
             "linecolor": "white",
             "minorgridcolor": "white",
             "startlinecolor": "#2a3f5f"
            },
            "baxis": {
             "endlinecolor": "#2a3f5f",
             "gridcolor": "white",
             "linecolor": "white",
             "minorgridcolor": "white",
             "startlinecolor": "#2a3f5f"
            },
            "type": "carpet"
           }
          ],
          "choropleth": [
           {
            "colorbar": {
             "outlinewidth": 0,
             "ticks": ""
            },
            "type": "choropleth"
           }
          ],
          "contour": [
           {
            "colorbar": {
             "outlinewidth": 0,
             "ticks": ""
            },
            "colorscale": [
             [
              0,
              "#0d0887"
             ],
             [
              0.1111111111111111,
              "#46039f"
             ],
             [
              0.2222222222222222,
              "#7201a8"
             ],
             [
              0.3333333333333333,
              "#9c179e"
             ],
             [
              0.4444444444444444,
              "#bd3786"
             ],
             [
              0.5555555555555556,
              "#d8576b"
             ],
             [
              0.6666666666666666,
              "#ed7953"
             ],
             [
              0.7777777777777778,
              "#fb9f3a"
             ],
             [
              0.8888888888888888,
              "#fdca26"
             ],
             [
              1,
              "#f0f921"
             ]
            ],
            "type": "contour"
           }
          ],
          "contourcarpet": [
           {
            "colorbar": {
             "outlinewidth": 0,
             "ticks": ""
            },
            "type": "contourcarpet"
           }
          ],
          "heatmap": [
           {
            "colorbar": {
             "outlinewidth": 0,
             "ticks": ""
            },
            "colorscale": [
             [
              0,
              "#0d0887"
             ],
             [
              0.1111111111111111,
              "#46039f"
             ],
             [
              0.2222222222222222,
              "#7201a8"
             ],
             [
              0.3333333333333333,
              "#9c179e"
             ],
             [
              0.4444444444444444,
              "#bd3786"
             ],
             [
              0.5555555555555556,
              "#d8576b"
             ],
             [
              0.6666666666666666,
              "#ed7953"
             ],
             [
              0.7777777777777778,
              "#fb9f3a"
             ],
             [
              0.8888888888888888,
              "#fdca26"
             ],
             [
              1,
              "#f0f921"
             ]
            ],
            "type": "heatmap"
           }
          ],
          "heatmapgl": [
           {
            "colorbar": {
             "outlinewidth": 0,
             "ticks": ""
            },
            "colorscale": [
             [
              0,
              "#0d0887"
             ],
             [
              0.1111111111111111,
              "#46039f"
             ],
             [
              0.2222222222222222,
              "#7201a8"
             ],
             [
              0.3333333333333333,
              "#9c179e"
             ],
             [
              0.4444444444444444,
              "#bd3786"
             ],
             [
              0.5555555555555556,
              "#d8576b"
             ],
             [
              0.6666666666666666,
              "#ed7953"
             ],
             [
              0.7777777777777778,
              "#fb9f3a"
             ],
             [
              0.8888888888888888,
              "#fdca26"
             ],
             [
              1,
              "#f0f921"
             ]
            ],
            "type": "heatmapgl"
           }
          ],
          "histogram": [
           {
            "marker": {
             "pattern": {
              "fillmode": "overlay",
              "size": 10,
              "solidity": 0.2
             }
            },
            "type": "histogram"
           }
          ],
          "histogram2d": [
           {
            "colorbar": {
             "outlinewidth": 0,
             "ticks": ""
            },
            "colorscale": [
             [
              0,
              "#0d0887"
             ],
             [
              0.1111111111111111,
              "#46039f"
             ],
             [
              0.2222222222222222,
              "#7201a8"
             ],
             [
              0.3333333333333333,
              "#9c179e"
             ],
             [
              0.4444444444444444,
              "#bd3786"
             ],
             [
              0.5555555555555556,
              "#d8576b"
             ],
             [
              0.6666666666666666,
              "#ed7953"
             ],
             [
              0.7777777777777778,
              "#fb9f3a"
             ],
             [
              0.8888888888888888,
              "#fdca26"
             ],
             [
              1,
              "#f0f921"
             ]
            ],
            "type": "histogram2d"
           }
          ],
          "histogram2dcontour": [
           {
            "colorbar": {
             "outlinewidth": 0,
             "ticks": ""
            },
            "colorscale": [
             [
              0,
              "#0d0887"
             ],
             [
              0.1111111111111111,
              "#46039f"
             ],
             [
              0.2222222222222222,
              "#7201a8"
             ],
             [
              0.3333333333333333,
              "#9c179e"
             ],
             [
              0.4444444444444444,
              "#bd3786"
             ],
             [
              0.5555555555555556,
              "#d8576b"
             ],
             [
              0.6666666666666666,
              "#ed7953"
             ],
             [
              0.7777777777777778,
              "#fb9f3a"
             ],
             [
              0.8888888888888888,
              "#fdca26"
             ],
             [
              1,
              "#f0f921"
             ]
            ],
            "type": "histogram2dcontour"
           }
          ],
          "mesh3d": [
           {
            "colorbar": {
             "outlinewidth": 0,
             "ticks": ""
            },
            "type": "mesh3d"
           }
          ],
          "parcoords": [
           {
            "line": {
             "colorbar": {
              "outlinewidth": 0,
              "ticks": ""
             }
            },
            "type": "parcoords"
           }
          ],
          "pie": [
           {
            "automargin": true,
            "type": "pie"
           }
          ],
          "scatter": [
           {
            "fillpattern": {
             "fillmode": "overlay",
             "size": 10,
             "solidity": 0.2
            },
            "type": "scatter"
           }
          ],
          "scatter3d": [
           {
            "line": {
             "colorbar": {
              "outlinewidth": 0,
              "ticks": ""
             }
            },
            "marker": {
             "colorbar": {
              "outlinewidth": 0,
              "ticks": ""
             }
            },
            "type": "scatter3d"
           }
          ],
          "scattercarpet": [
           {
            "marker": {
             "colorbar": {
              "outlinewidth": 0,
              "ticks": ""
             }
            },
            "type": "scattercarpet"
           }
          ],
          "scattergeo": [
           {
            "marker": {
             "colorbar": {
              "outlinewidth": 0,
              "ticks": ""
             }
            },
            "type": "scattergeo"
           }
          ],
          "scattergl": [
           {
            "marker": {
             "colorbar": {
              "outlinewidth": 0,
              "ticks": ""
             }
            },
            "type": "scattergl"
           }
          ],
          "scattermapbox": [
           {
            "marker": {
             "colorbar": {
              "outlinewidth": 0,
              "ticks": ""
             }
            },
            "type": "scattermapbox"
           }
          ],
          "scatterpolar": [
           {
            "marker": {
             "colorbar": {
              "outlinewidth": 0,
              "ticks": ""
             }
            },
            "type": "scatterpolar"
           }
          ],
          "scatterpolargl": [
           {
            "marker": {
             "colorbar": {
              "outlinewidth": 0,
              "ticks": ""
             }
            },
            "type": "scatterpolargl"
           }
          ],
          "scatterternary": [
           {
            "marker": {
             "colorbar": {
              "outlinewidth": 0,
              "ticks": ""
             }
            },
            "type": "scatterternary"
           }
          ],
          "surface": [
           {
            "colorbar": {
             "outlinewidth": 0,
             "ticks": ""
            },
            "colorscale": [
             [
              0,
              "#0d0887"
             ],
             [
              0.1111111111111111,
              "#46039f"
             ],
             [
              0.2222222222222222,
              "#7201a8"
             ],
             [
              0.3333333333333333,
              "#9c179e"
             ],
             [
              0.4444444444444444,
              "#bd3786"
             ],
             [
              0.5555555555555556,
              "#d8576b"
             ],
             [
              0.6666666666666666,
              "#ed7953"
             ],
             [
              0.7777777777777778,
              "#fb9f3a"
             ],
             [
              0.8888888888888888,
              "#fdca26"
             ],
             [
              1,
              "#f0f921"
             ]
            ],
            "type": "surface"
           }
          ],
          "table": [
           {
            "cells": {
             "fill": {
              "color": "#EBF0F8"
             },
             "line": {
              "color": "white"
             }
            },
            "header": {
             "fill": {
              "color": "#C8D4E3"
             },
             "line": {
              "color": "white"
             }
            },
            "type": "table"
           }
          ]
         },
         "layout": {
          "annotationdefaults": {
           "arrowcolor": "#2a3f5f",
           "arrowhead": 0,
           "arrowwidth": 1
          },
          "autotypenumbers": "strict",
          "coloraxis": {
           "colorbar": {
            "outlinewidth": 0,
            "ticks": ""
           }
          },
          "colorscale": {
           "diverging": [
            [
             0,
             "#8e0152"
            ],
            [
             0.1,
             "#c51b7d"
            ],
            [
             0.2,
             "#de77ae"
            ],
            [
             0.3,
             "#f1b6da"
            ],
            [
             0.4,
             "#fde0ef"
            ],
            [
             0.5,
             "#f7f7f7"
            ],
            [
             0.6,
             "#e6f5d0"
            ],
            [
             0.7,
             "#b8e186"
            ],
            [
             0.8,
             "#7fbc41"
            ],
            [
             0.9,
             "#4d9221"
            ],
            [
             1,
             "#276419"
            ]
           ],
           "sequential": [
            [
             0,
             "#0d0887"
            ],
            [
             0.1111111111111111,
             "#46039f"
            ],
            [
             0.2222222222222222,
             "#7201a8"
            ],
            [
             0.3333333333333333,
             "#9c179e"
            ],
            [
             0.4444444444444444,
             "#bd3786"
            ],
            [
             0.5555555555555556,
             "#d8576b"
            ],
            [
             0.6666666666666666,
             "#ed7953"
            ],
            [
             0.7777777777777778,
             "#fb9f3a"
            ],
            [
             0.8888888888888888,
             "#fdca26"
            ],
            [
             1,
             "#f0f921"
            ]
           ],
           "sequentialminus": [
            [
             0,
             "#0d0887"
            ],
            [
             0.1111111111111111,
             "#46039f"
            ],
            [
             0.2222222222222222,
             "#7201a8"
            ],
            [
             0.3333333333333333,
             "#9c179e"
            ],
            [
             0.4444444444444444,
             "#bd3786"
            ],
            [
             0.5555555555555556,
             "#d8576b"
            ],
            [
             0.6666666666666666,
             "#ed7953"
            ],
            [
             0.7777777777777778,
             "#fb9f3a"
            ],
            [
             0.8888888888888888,
             "#fdca26"
            ],
            [
             1,
             "#f0f921"
            ]
           ]
          },
          "colorway": [
           "#636efa",
           "#EF553B",
           "#00cc96",
           "#ab63fa",
           "#FFA15A",
           "#19d3f3",
           "#FF6692",
           "#B6E880",
           "#FF97FF",
           "#FECB52"
          ],
          "font": {
           "color": "#2a3f5f"
          },
          "geo": {
           "bgcolor": "white",
           "lakecolor": "white",
           "landcolor": "#E5ECF6",
           "showlakes": true,
           "showland": true,
           "subunitcolor": "white"
          },
          "hoverlabel": {
           "align": "left"
          },
          "hovermode": "closest",
          "mapbox": {
           "style": "light"
          },
          "paper_bgcolor": "white",
          "plot_bgcolor": "#E5ECF6",
          "polar": {
           "angularaxis": {
            "gridcolor": "white",
            "linecolor": "white",
            "ticks": ""
           },
           "bgcolor": "#E5ECF6",
           "radialaxis": {
            "gridcolor": "white",
            "linecolor": "white",
            "ticks": ""
           }
          },
          "scene": {
           "xaxis": {
            "backgroundcolor": "#E5ECF6",
            "gridcolor": "white",
            "gridwidth": 2,
            "linecolor": "white",
            "showbackground": true,
            "ticks": "",
            "zerolinecolor": "white"
           },
           "yaxis": {
            "backgroundcolor": "#E5ECF6",
            "gridcolor": "white",
            "gridwidth": 2,
            "linecolor": "white",
            "showbackground": true,
            "ticks": "",
            "zerolinecolor": "white"
           },
           "zaxis": {
            "backgroundcolor": "#E5ECF6",
            "gridcolor": "white",
            "gridwidth": 2,
            "linecolor": "white",
            "showbackground": true,
            "ticks": "",
            "zerolinecolor": "white"
           }
          },
          "shapedefaults": {
           "line": {
            "color": "#2a3f5f"
           }
          },
          "ternary": {
           "aaxis": {
            "gridcolor": "white",
            "linecolor": "white",
            "ticks": ""
           },
           "baxis": {
            "gridcolor": "white",
            "linecolor": "white",
            "ticks": ""
           },
           "bgcolor": "#E5ECF6",
           "caxis": {
            "gridcolor": "white",
            "linecolor": "white",
            "ticks": ""
           }
          },
          "title": {
           "x": 0.05
          },
          "xaxis": {
           "automargin": true,
           "gridcolor": "white",
           "linecolor": "white",
           "ticks": "",
           "title": {
            "standoff": 15
           },
           "zerolinecolor": "white",
           "zerolinewidth": 2
          },
          "yaxis": {
           "automargin": true,
           "gridcolor": "white",
           "linecolor": "white",
           "ticks": "",
           "title": {
            "standoff": 15
           },
           "zerolinecolor": "white",
           "zerolinewidth": 2
          }
         }
        },
        "title": {
         "text": "Training Loss over Time"
        },
        "xaxis": {
         "showgrid": true,
         "showline": true,
         "showticklabels": true,
         "title": {
          "text": "Iteration"
         }
        },
        "yaxis": {
         "showgrid": true,
         "showline": true,
         "showticklabels": true,
         "title": {
          "text": "Loss"
         }
        }
       }
      }
     },
     "metadata": {},
     "output_type": "display_data"
    }
   ],
   "source": [
    "# Create the figure\n",
    "fig = go.Figure()\n",
    "\n",
    "# Add the loss curve data for both initializations\n",
    "fig.add_trace(go.Scatter(y=loss_list_zero, mode='lines', name='Zero Initialization'))\n",
    "fig.add_trace(go.Scatter(y=loss_list_random, mode='lines', name='Random Initialization'))\n",
    "\n",
    "# Set the layout for the figure\n",
    "fig.update_layout(\n",
    "    title='Training Loss over Time',\n",
    "    xaxis_title='Iteration',\n",
    "    yaxis_title='Loss',\n",
    "    xaxis=dict(showgrid=True, showline=True, showticklabels=True),\n",
    "    yaxis=dict(showgrid=True, showline=True, showticklabels=True)\n",
    ")\n",
    "\n",
    "# Display the figure\n",
    "fig.show()"
   ]
  },
  {
   "cell_type": "code",
   "execution_count": 46,
   "metadata": {},
   "outputs": [
    {
     "data": {
      "image/png": "[encoded data removed]",
      "text/plain": [
       "<IPython.core.display.Image object>"
      ]
     },
     "execution_count": 46,
     "metadata": {},
     "output_type": "execute_result"
    }
   ],
   "source": [
    "img_bytes = pio.to_image(fig, format=\"png\")\n",
    "Image(img_bytes)"
   ]
  }
 ],
 "metadata": {
  "kernelspec": {
   "display_name": "Python 3",
   "language": "python",
   "name": "python3"
  },
  "language_info": {
   "codemirror_mode": {
    "name": "ipython",
    "version": 3
   },
   "file_extension": ".py",
   "mimetype": "text/x-python",
   "name": "python",
   "nbconvert_exporter": "python",
   "pygments_lexer": "ipython3",
   "version": "3.10.12"
  }
 },
 "nbformat": 4,
 "nbformat_minor": 2
}
